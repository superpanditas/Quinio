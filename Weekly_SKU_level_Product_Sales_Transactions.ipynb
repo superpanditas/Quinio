{
  "nbformat": 4,
  "nbformat_minor": 0,
  "metadata": {
    "colab": {
      "provenance": [],
      "authorship_tag": "ABX9TyMdVichtUOCRqWNuIozR6xk",
      "include_colab_link": true
    },
    "kernelspec": {
      "name": "python3",
      "display_name": "Python 3"
    },
    "language_info": {
      "name": "python"
    }
  },
  "cells": [
    {
      "cell_type": "markdown",
      "metadata": {
        "id": "view-in-github",
        "colab_type": "text"
      },
      "source": [
        "<a href=\"https://colab.research.google.com/github/superpanditas/Quinio/blob/main/Weekly_SKU_level_Product_Sales_Transactions.ipynb\" target=\"_parent\"><img src=\"https://colab.research.google.com/assets/colab-badge.svg\" alt=\"Open In Colab\"/></a>"
      ]
    },
    {
      "cell_type": "code",
      "execution_count": 3,
      "metadata": {
        "id": "7SXUdzfBF6KE"
      },
      "outputs": [],
      "source": [
        "import pandas as pd\n",
        "import numpy as np\n",
        "import matplotlib.pyplot as plt\n",
        "import seaborn as sns"
      ]
    },
    {
      "cell_type": "code",
      "source": [
        "# Load the data\n",
        "data = pd.read_csv('/content/Productlevel_Sales_Transactions_Dataset_Weekly.csv')\n",
        "# Print data\n",
        "data.head()"
      ],
      "metadata": {
        "colab": {
          "base_uri": "https://localhost:8080/",
          "height": 235
        },
        "id": "uA1_inHtX5Dr",
        "outputId": "fac43e6a-c54f-4222-a4e2-44fc27911c8b"
      },
      "execution_count": 26,
      "outputs": [
        {
          "output_type": "execute_result",
          "data": {
            "text/plain": [
              "    Scode Pcode    Price  Wk0  Wk1  Wk2  Wk3  Wk4  Wk5  Wk6  ...  Wk96  Wk97  \\\n",
              "0  Store1  SKU1  $24.00    23   48   47   42   22   29   47  ...    33    40   \n",
              "1  Store1  SKU2  $63.00    23   22   25   40   32   26   30  ...    25    50   \n",
              "2  Store1  SKU3  $93.00     7   11    8    9   10    8    7  ...    13    30   \n",
              "3  Store1  SKU4  $48.00    50   31   50   33   26   27   42  ...    26    23   \n",
              "4  Store1  SKU5  $62.00     8    5   13   11    6    7    9  ...    15    21   \n",
              "\n",
              "   Wk98  Wk99  Wk100  Wk101  Wk102  Wk103  Unnamed: 107  94  \n",
              "0   125   133    229    381     21     31           NaN NaN  \n",
              "1    75    95    231    590     25     33           NaN NaN  \n",
              "2    67   188    267    330     35     33           NaN NaN  \n",
              "3    92   126    205    357     30     34           NaN NaN  \n",
              "4    93   243    710   1872     33     10           NaN NaN  \n",
              "\n",
              "[5 rows x 109 columns]"
            ],
            "text/html": [
              "\n",
              "  <div id=\"df-db960c05-33a6-4bc2-b0ee-ea821a586208\">\n",
              "    <div class=\"colab-df-container\">\n",
              "      <div>\n",
              "<style scoped>\n",
              "    .dataframe tbody tr th:only-of-type {\n",
              "        vertical-align: middle;\n",
              "    }\n",
              "\n",
              "    .dataframe tbody tr th {\n",
              "        vertical-align: top;\n",
              "    }\n",
              "\n",
              "    .dataframe thead th {\n",
              "        text-align: right;\n",
              "    }\n",
              "</style>\n",
              "<table border=\"1\" class=\"dataframe\">\n",
              "  <thead>\n",
              "    <tr style=\"text-align: right;\">\n",
              "      <th></th>\n",
              "      <th>Scode</th>\n",
              "      <th>Pcode</th>\n",
              "      <th>Price</th>\n",
              "      <th>Wk0</th>\n",
              "      <th>Wk1</th>\n",
              "      <th>Wk2</th>\n",
              "      <th>Wk3</th>\n",
              "      <th>Wk4</th>\n",
              "      <th>Wk5</th>\n",
              "      <th>Wk6</th>\n",
              "      <th>...</th>\n",
              "      <th>Wk96</th>\n",
              "      <th>Wk97</th>\n",
              "      <th>Wk98</th>\n",
              "      <th>Wk99</th>\n",
              "      <th>Wk100</th>\n",
              "      <th>Wk101</th>\n",
              "      <th>Wk102</th>\n",
              "      <th>Wk103</th>\n",
              "      <th>Unnamed: 107</th>\n",
              "      <th>94</th>\n",
              "    </tr>\n",
              "  </thead>\n",
              "  <tbody>\n",
              "    <tr>\n",
              "      <th>0</th>\n",
              "      <td>Store1</td>\n",
              "      <td>SKU1</td>\n",
              "      <td>$24.00</td>\n",
              "      <td>23</td>\n",
              "      <td>48</td>\n",
              "      <td>47</td>\n",
              "      <td>42</td>\n",
              "      <td>22</td>\n",
              "      <td>29</td>\n",
              "      <td>47</td>\n",
              "      <td>...</td>\n",
              "      <td>33</td>\n",
              "      <td>40</td>\n",
              "      <td>125</td>\n",
              "      <td>133</td>\n",
              "      <td>229</td>\n",
              "      <td>381</td>\n",
              "      <td>21</td>\n",
              "      <td>31</td>\n",
              "      <td>NaN</td>\n",
              "      <td>NaN</td>\n",
              "    </tr>\n",
              "    <tr>\n",
              "      <th>1</th>\n",
              "      <td>Store1</td>\n",
              "      <td>SKU2</td>\n",
              "      <td>$63.00</td>\n",
              "      <td>23</td>\n",
              "      <td>22</td>\n",
              "      <td>25</td>\n",
              "      <td>40</td>\n",
              "      <td>32</td>\n",
              "      <td>26</td>\n",
              "      <td>30</td>\n",
              "      <td>...</td>\n",
              "      <td>25</td>\n",
              "      <td>50</td>\n",
              "      <td>75</td>\n",
              "      <td>95</td>\n",
              "      <td>231</td>\n",
              "      <td>590</td>\n",
              "      <td>25</td>\n",
              "      <td>33</td>\n",
              "      <td>NaN</td>\n",
              "      <td>NaN</td>\n",
              "    </tr>\n",
              "    <tr>\n",
              "      <th>2</th>\n",
              "      <td>Store1</td>\n",
              "      <td>SKU3</td>\n",
              "      <td>$93.00</td>\n",
              "      <td>7</td>\n",
              "      <td>11</td>\n",
              "      <td>8</td>\n",
              "      <td>9</td>\n",
              "      <td>10</td>\n",
              "      <td>8</td>\n",
              "      <td>7</td>\n",
              "      <td>...</td>\n",
              "      <td>13</td>\n",
              "      <td>30</td>\n",
              "      <td>67</td>\n",
              "      <td>188</td>\n",
              "      <td>267</td>\n",
              "      <td>330</td>\n",
              "      <td>35</td>\n",
              "      <td>33</td>\n",
              "      <td>NaN</td>\n",
              "      <td>NaN</td>\n",
              "    </tr>\n",
              "    <tr>\n",
              "      <th>3</th>\n",
              "      <td>Store1</td>\n",
              "      <td>SKU4</td>\n",
              "      <td>$48.00</td>\n",
              "      <td>50</td>\n",
              "      <td>31</td>\n",
              "      <td>50</td>\n",
              "      <td>33</td>\n",
              "      <td>26</td>\n",
              "      <td>27</td>\n",
              "      <td>42</td>\n",
              "      <td>...</td>\n",
              "      <td>26</td>\n",
              "      <td>23</td>\n",
              "      <td>92</td>\n",
              "      <td>126</td>\n",
              "      <td>205</td>\n",
              "      <td>357</td>\n",
              "      <td>30</td>\n",
              "      <td>34</td>\n",
              "      <td>NaN</td>\n",
              "      <td>NaN</td>\n",
              "    </tr>\n",
              "    <tr>\n",
              "      <th>4</th>\n",
              "      <td>Store1</td>\n",
              "      <td>SKU5</td>\n",
              "      <td>$62.00</td>\n",
              "      <td>8</td>\n",
              "      <td>5</td>\n",
              "      <td>13</td>\n",
              "      <td>11</td>\n",
              "      <td>6</td>\n",
              "      <td>7</td>\n",
              "      <td>9</td>\n",
              "      <td>...</td>\n",
              "      <td>15</td>\n",
              "      <td>21</td>\n",
              "      <td>93</td>\n",
              "      <td>243</td>\n",
              "      <td>710</td>\n",
              "      <td>1872</td>\n",
              "      <td>33</td>\n",
              "      <td>10</td>\n",
              "      <td>NaN</td>\n",
              "      <td>NaN</td>\n",
              "    </tr>\n",
              "  </tbody>\n",
              "</table>\n",
              "<p>5 rows × 109 columns</p>\n",
              "</div>\n",
              "      <button class=\"colab-df-convert\" onclick=\"convertToInteractive('df-db960c05-33a6-4bc2-b0ee-ea821a586208')\"\n",
              "              title=\"Convert this dataframe to an interactive table.\"\n",
              "              style=\"display:none;\">\n",
              "        \n",
              "  <svg xmlns=\"http://www.w3.org/2000/svg\" height=\"24px\"viewBox=\"0 0 24 24\"\n",
              "       width=\"24px\">\n",
              "    <path d=\"M0 0h24v24H0V0z\" fill=\"none\"/>\n",
              "    <path d=\"M18.56 5.44l.94 2.06.94-2.06 2.06-.94-2.06-.94-.94-2.06-.94 2.06-2.06.94zm-11 1L8.5 8.5l.94-2.06 2.06-.94-2.06-.94L8.5 2.5l-.94 2.06-2.06.94zm10 10l.94 2.06.94-2.06 2.06-.94-2.06-.94-.94-2.06-.94 2.06-2.06.94z\"/><path d=\"M17.41 7.96l-1.37-1.37c-.4-.4-.92-.59-1.43-.59-.52 0-1.04.2-1.43.59L10.3 9.45l-7.72 7.72c-.78.78-.78 2.05 0 2.83L4 21.41c.39.39.9.59 1.41.59.51 0 1.02-.2 1.41-.59l7.78-7.78 2.81-2.81c.8-.78.8-2.07 0-2.86zM5.41 20L4 18.59l7.72-7.72 1.47 1.35L5.41 20z\"/>\n",
              "  </svg>\n",
              "      </button>\n",
              "      \n",
              "  <style>\n",
              "    .colab-df-container {\n",
              "      display:flex;\n",
              "      flex-wrap:wrap;\n",
              "      gap: 12px;\n",
              "    }\n",
              "\n",
              "    .colab-df-convert {\n",
              "      background-color: #E8F0FE;\n",
              "      border: none;\n",
              "      border-radius: 50%;\n",
              "      cursor: pointer;\n",
              "      display: none;\n",
              "      fill: #1967D2;\n",
              "      height: 32px;\n",
              "      padding: 0 0 0 0;\n",
              "      width: 32px;\n",
              "    }\n",
              "\n",
              "    .colab-df-convert:hover {\n",
              "      background-color: #E2EBFA;\n",
              "      box-shadow: 0px 1px 2px rgba(60, 64, 67, 0.3), 0px 1px 3px 1px rgba(60, 64, 67, 0.15);\n",
              "      fill: #174EA6;\n",
              "    }\n",
              "\n",
              "    [theme=dark] .colab-df-convert {\n",
              "      background-color: #3B4455;\n",
              "      fill: #D2E3FC;\n",
              "    }\n",
              "\n",
              "    [theme=dark] .colab-df-convert:hover {\n",
              "      background-color: #434B5C;\n",
              "      box-shadow: 0px 1px 3px 1px rgba(0, 0, 0, 0.15);\n",
              "      filter: drop-shadow(0px 1px 2px rgba(0, 0, 0, 0.3));\n",
              "      fill: #FFFFFF;\n",
              "    }\n",
              "  </style>\n",
              "\n",
              "      <script>\n",
              "        const buttonEl =\n",
              "          document.querySelector('#df-db960c05-33a6-4bc2-b0ee-ea821a586208 button.colab-df-convert');\n",
              "        buttonEl.style.display =\n",
              "          google.colab.kernel.accessAllowed ? 'block' : 'none';\n",
              "\n",
              "        async function convertToInteractive(key) {\n",
              "          const element = document.querySelector('#df-db960c05-33a6-4bc2-b0ee-ea821a586208');\n",
              "          const dataTable =\n",
              "            await google.colab.kernel.invokeFunction('convertToInteractive',\n",
              "                                                     [key], {});\n",
              "          if (!dataTable) return;\n",
              "\n",
              "          const docLinkHtml = 'Like what you see? Visit the ' +\n",
              "            '<a target=\"_blank\" href=https://colab.research.google.com/notebooks/data_table.ipynb>data table notebook</a>'\n",
              "            + ' to learn more about interactive tables.';\n",
              "          element.innerHTML = '';\n",
              "          dataTable['output_type'] = 'display_data';\n",
              "          await google.colab.output.renderOutput(dataTable, element);\n",
              "          const docLink = document.createElement('div');\n",
              "          docLink.innerHTML = docLinkHtml;\n",
              "          element.appendChild(docLink);\n",
              "        }\n",
              "      </script>\n",
              "    </div>\n",
              "  </div>\n",
              "  "
            ]
          },
          "metadata": {},
          "execution_count": 26
        }
      ]
    },
    {
      "cell_type": "code",
      "source": [
        "# info about DataFrame\n",
        "data.info()"
      ],
      "metadata": {
        "colab": {
          "base_uri": "https://localhost:8080/"
        },
        "id": "izARFOnwX6G8",
        "outputId": "3cd7ced6-6a5e-40d4-dfe8-d0b60e3f8f33"
      },
      "execution_count": 27,
      "outputs": [
        {
          "output_type": "stream",
          "name": "stdout",
          "text": [
            "<class 'pandas.core.frame.DataFrame'>\n",
            "RangeIndex: 6000 entries, 0 to 5999\n",
            "Columns: 109 entries, Scode to 94\n",
            "dtypes: float64(2), int64(104), object(3)\n",
            "memory usage: 5.0+ MB\n"
          ]
        }
      ]
    },
    {
      "cell_type": "code",
      "source": [
        "print('Number of Stores:', data['Scode'].nunique())"
      ],
      "metadata": {
        "id": "__7jgfa94Tcr",
        "outputId": "faf7c4a4-32bc-4d3d-e08a-b99f0052cff8",
        "colab": {
          "base_uri": "https://localhost:8080/"
        }
      },
      "execution_count": 28,
      "outputs": [
        {
          "output_type": "stream",
          "name": "stdout",
          "text": [
            "Number of Stores: 5\n"
          ]
        }
      ]
    },
    {
      "cell_type": "code",
      "source": [
        "# How many products are for each store?\n",
        "count_products_by_store = data[['Scode', 'Pcode']]\n",
        "print(count_products_by_store['Scode'].value_counts())"
      ],
      "metadata": {
        "colab": {
          "base_uri": "https://localhost:8080/"
        },
        "id": "ZFCU9A9fSEz-",
        "outputId": "1613540f-725e-4e75-94b0-17efad556efa"
      },
      "execution_count": 29,
      "outputs": [
        {
          "output_type": "stream",
          "name": "stdout",
          "text": [
            "Store4    1500\n",
            "Store5    1500\n",
            "Store1    1000\n",
            "Store2    1000\n",
            "Store3    1000\n",
            "Name: Scode, dtype: int64\n"
          ]
        }
      ]
    },
    {
      "cell_type": "code",
      "source": [
        "# Frequenthly of products\n",
        "count_products = data['Pcode'].value_counts()\n",
        "count_products = count_products.to_frame()\n",
        "count_products = count_products.reset_index()\n",
        "#print(count_products.sort_values(by='Pcode', ascending=False))\n",
        "\n",
        "# The number of products that are repeated x times\n",
        "freq_products = count_products.groupby('Pcode')['index'].count()\n",
        "print(freq_products)"
      ],
      "metadata": {
        "id": "z3fCNDcz5ESm",
        "outputId": "7b72d55d-d18e-4454-e12c-d39f3f3057b9",
        "colab": {
          "base_uri": "https://localhost:8080/"
        }
      },
      "execution_count": 30,
      "outputs": [
        {
          "output_type": "stream",
          "name": "stdout",
          "text": [
            "Pcode\n",
            "1     506\n",
            "2     324\n",
            "3     309\n",
            "4     252\n",
            "5     192\n",
            "6     107\n",
            "7      78\n",
            "8      48\n",
            "9      19\n",
            "10     14\n",
            "11      4\n",
            "12      2\n",
            "Name: index, dtype: int64\n"
          ]
        }
      ]
    },
    {
      "cell_type": "code",
      "source": [
        "# dtypes of all columns\n",
        "#print(data.dtypes)\n",
        "\n",
        "# Function to remove non-numeric values and convert string to float\n",
        "def convert_value(string_value):\n",
        "  if isinstance(string_value, (int, float)):\n",
        "    return string_value\n",
        "  string_value = ''.join(s for s in string_value if s.isdigit() or s in ['.', ','])\n",
        "  return float(string_value)\n",
        "\n",
        "data['Price'] = data['Price'].apply(lambda x: convert_value(x))"
      ],
      "metadata": {
        "id": "628on0cGpeDK"
      },
      "execution_count": 31,
      "outputs": []
    },
    {
      "cell_type": "code",
      "source": [
        "# Eliminate columns \"Unnamed: 107\" and \"94\" because have null values in all rows\n",
        "data = data.drop(['Unnamed: 107', '94'], axis=1)\n",
        "\n",
        "# Change week columns by dates to manage more easily data\n",
        "# Init dates by Mondays\n",
        "start_date = '2022-01-03'\n",
        "\n",
        "dates = pd.date_range(start=start_date, periods=104, freq='7D')\n",
        "data.rename(columns=dict(zip(data.loc[:, ~data.columns.isin(['Scode', 'Pcode', 'Price'])].columns, dates)), inplace=True)\n",
        "\n",
        "data.head()"
      ],
      "metadata": {
        "colab": {
          "base_uri": "https://localhost:8080/",
          "height": 297
        },
        "id": "MIaJZ1NxZg7b",
        "outputId": "62dedd1e-f185-4b4f-d647-a8ea5ebdfed8"
      },
      "execution_count": 32,
      "outputs": [
        {
          "output_type": "execute_result",
          "data": {
            "text/plain": [
              "    Scode Pcode  Price  2022-01-03 00:00:00  2022-01-10 00:00:00  \\\n",
              "0  Store1  SKU1   24.0                   23                   48   \n",
              "1  Store1  SKU2   63.0                   23                   22   \n",
              "2  Store1  SKU3   93.0                    7                   11   \n",
              "3  Store1  SKU4   48.0                   50                   31   \n",
              "4  Store1  SKU5   62.0                    8                    5   \n",
              "\n",
              "   2022-01-17 00:00:00  2022-01-24 00:00:00  2022-01-31 00:00:00  \\\n",
              "0                   47                   42                   22   \n",
              "1                   25                   40                   32   \n",
              "2                    8                    9                   10   \n",
              "3                   50                   33                   26   \n",
              "4                   13                   11                    6   \n",
              "\n",
              "   2022-02-07 00:00:00  2022-02-14 00:00:00  ...  2023-10-23 00:00:00  \\\n",
              "0                   29                   47  ...                   31   \n",
              "1                   26                   30  ...                   20   \n",
              "2                    8                    7  ...                    9   \n",
              "3                   27                   42  ...                   31   \n",
              "4                    7                    9  ...                   19   \n",
              "\n",
              "   2023-10-30 00:00:00  2023-11-06 00:00:00  2023-11-13 00:00:00  \\\n",
              "0                   37                   33                   40   \n",
              "1                   20                   25                   50   \n",
              "2                   17                   13                   30   \n",
              "3                   23                   26                   23   \n",
              "4                    9                   15                   21   \n",
              "\n",
              "   2023-11-20 00:00:00  2023-11-27 00:00:00  2023-12-04 00:00:00  \\\n",
              "0                  125                  133                  229   \n",
              "1                   75                   95                  231   \n",
              "2                   67                  188                  267   \n",
              "3                   92                  126                  205   \n",
              "4                   93                  243                  710   \n",
              "\n",
              "   2023-12-11 00:00:00  2023-12-18 00:00:00  2023-12-25 00:00:00  \n",
              "0                  381                   21                   31  \n",
              "1                  590                   25                   33  \n",
              "2                  330                   35                   33  \n",
              "3                  357                   30                   34  \n",
              "4                 1872                   33                   10  \n",
              "\n",
              "[5 rows x 107 columns]"
            ],
            "text/html": [
              "\n",
              "  <div id=\"df-357eab4c-70a5-4e5b-9390-d9eb752cf2c5\">\n",
              "    <div class=\"colab-df-container\">\n",
              "      <div>\n",
              "<style scoped>\n",
              "    .dataframe tbody tr th:only-of-type {\n",
              "        vertical-align: middle;\n",
              "    }\n",
              "\n",
              "    .dataframe tbody tr th {\n",
              "        vertical-align: top;\n",
              "    }\n",
              "\n",
              "    .dataframe thead th {\n",
              "        text-align: right;\n",
              "    }\n",
              "</style>\n",
              "<table border=\"1\" class=\"dataframe\">\n",
              "  <thead>\n",
              "    <tr style=\"text-align: right;\">\n",
              "      <th></th>\n",
              "      <th>Scode</th>\n",
              "      <th>Pcode</th>\n",
              "      <th>Price</th>\n",
              "      <th>2022-01-03 00:00:00</th>\n",
              "      <th>2022-01-10 00:00:00</th>\n",
              "      <th>2022-01-17 00:00:00</th>\n",
              "      <th>2022-01-24 00:00:00</th>\n",
              "      <th>2022-01-31 00:00:00</th>\n",
              "      <th>2022-02-07 00:00:00</th>\n",
              "      <th>2022-02-14 00:00:00</th>\n",
              "      <th>...</th>\n",
              "      <th>2023-10-23 00:00:00</th>\n",
              "      <th>2023-10-30 00:00:00</th>\n",
              "      <th>2023-11-06 00:00:00</th>\n",
              "      <th>2023-11-13 00:00:00</th>\n",
              "      <th>2023-11-20 00:00:00</th>\n",
              "      <th>2023-11-27 00:00:00</th>\n",
              "      <th>2023-12-04 00:00:00</th>\n",
              "      <th>2023-12-11 00:00:00</th>\n",
              "      <th>2023-12-18 00:00:00</th>\n",
              "      <th>2023-12-25 00:00:00</th>\n",
              "    </tr>\n",
              "  </thead>\n",
              "  <tbody>\n",
              "    <tr>\n",
              "      <th>0</th>\n",
              "      <td>Store1</td>\n",
              "      <td>SKU1</td>\n",
              "      <td>24.0</td>\n",
              "      <td>23</td>\n",
              "      <td>48</td>\n",
              "      <td>47</td>\n",
              "      <td>42</td>\n",
              "      <td>22</td>\n",
              "      <td>29</td>\n",
              "      <td>47</td>\n",
              "      <td>...</td>\n",
              "      <td>31</td>\n",
              "      <td>37</td>\n",
              "      <td>33</td>\n",
              "      <td>40</td>\n",
              "      <td>125</td>\n",
              "      <td>133</td>\n",
              "      <td>229</td>\n",
              "      <td>381</td>\n",
              "      <td>21</td>\n",
              "      <td>31</td>\n",
              "    </tr>\n",
              "    <tr>\n",
              "      <th>1</th>\n",
              "      <td>Store1</td>\n",
              "      <td>SKU2</td>\n",
              "      <td>63.0</td>\n",
              "      <td>23</td>\n",
              "      <td>22</td>\n",
              "      <td>25</td>\n",
              "      <td>40</td>\n",
              "      <td>32</td>\n",
              "      <td>26</td>\n",
              "      <td>30</td>\n",
              "      <td>...</td>\n",
              "      <td>20</td>\n",
              "      <td>20</td>\n",
              "      <td>25</td>\n",
              "      <td>50</td>\n",
              "      <td>75</td>\n",
              "      <td>95</td>\n",
              "      <td>231</td>\n",
              "      <td>590</td>\n",
              "      <td>25</td>\n",
              "      <td>33</td>\n",
              "    </tr>\n",
              "    <tr>\n",
              "      <th>2</th>\n",
              "      <td>Store1</td>\n",
              "      <td>SKU3</td>\n",
              "      <td>93.0</td>\n",
              "      <td>7</td>\n",
              "      <td>11</td>\n",
              "      <td>8</td>\n",
              "      <td>9</td>\n",
              "      <td>10</td>\n",
              "      <td>8</td>\n",
              "      <td>7</td>\n",
              "      <td>...</td>\n",
              "      <td>9</td>\n",
              "      <td>17</td>\n",
              "      <td>13</td>\n",
              "      <td>30</td>\n",
              "      <td>67</td>\n",
              "      <td>188</td>\n",
              "      <td>267</td>\n",
              "      <td>330</td>\n",
              "      <td>35</td>\n",
              "      <td>33</td>\n",
              "    </tr>\n",
              "    <tr>\n",
              "      <th>3</th>\n",
              "      <td>Store1</td>\n",
              "      <td>SKU4</td>\n",
              "      <td>48.0</td>\n",
              "      <td>50</td>\n",
              "      <td>31</td>\n",
              "      <td>50</td>\n",
              "      <td>33</td>\n",
              "      <td>26</td>\n",
              "      <td>27</td>\n",
              "      <td>42</td>\n",
              "      <td>...</td>\n",
              "      <td>31</td>\n",
              "      <td>23</td>\n",
              "      <td>26</td>\n",
              "      <td>23</td>\n",
              "      <td>92</td>\n",
              "      <td>126</td>\n",
              "      <td>205</td>\n",
              "      <td>357</td>\n",
              "      <td>30</td>\n",
              "      <td>34</td>\n",
              "    </tr>\n",
              "    <tr>\n",
              "      <th>4</th>\n",
              "      <td>Store1</td>\n",
              "      <td>SKU5</td>\n",
              "      <td>62.0</td>\n",
              "      <td>8</td>\n",
              "      <td>5</td>\n",
              "      <td>13</td>\n",
              "      <td>11</td>\n",
              "      <td>6</td>\n",
              "      <td>7</td>\n",
              "      <td>9</td>\n",
              "      <td>...</td>\n",
              "      <td>19</td>\n",
              "      <td>9</td>\n",
              "      <td>15</td>\n",
              "      <td>21</td>\n",
              "      <td>93</td>\n",
              "      <td>243</td>\n",
              "      <td>710</td>\n",
              "      <td>1872</td>\n",
              "      <td>33</td>\n",
              "      <td>10</td>\n",
              "    </tr>\n",
              "  </tbody>\n",
              "</table>\n",
              "<p>5 rows × 107 columns</p>\n",
              "</div>\n",
              "      <button class=\"colab-df-convert\" onclick=\"convertToInteractive('df-357eab4c-70a5-4e5b-9390-d9eb752cf2c5')\"\n",
              "              title=\"Convert this dataframe to an interactive table.\"\n",
              "              style=\"display:none;\">\n",
              "        \n",
              "  <svg xmlns=\"http://www.w3.org/2000/svg\" height=\"24px\"viewBox=\"0 0 24 24\"\n",
              "       width=\"24px\">\n",
              "    <path d=\"M0 0h24v24H0V0z\" fill=\"none\"/>\n",
              "    <path d=\"M18.56 5.44l.94 2.06.94-2.06 2.06-.94-2.06-.94-.94-2.06-.94 2.06-2.06.94zm-11 1L8.5 8.5l.94-2.06 2.06-.94-2.06-.94L8.5 2.5l-.94 2.06-2.06.94zm10 10l.94 2.06.94-2.06 2.06-.94-2.06-.94-.94-2.06-.94 2.06-2.06.94z\"/><path d=\"M17.41 7.96l-1.37-1.37c-.4-.4-.92-.59-1.43-.59-.52 0-1.04.2-1.43.59L10.3 9.45l-7.72 7.72c-.78.78-.78 2.05 0 2.83L4 21.41c.39.39.9.59 1.41.59.51 0 1.02-.2 1.41-.59l7.78-7.78 2.81-2.81c.8-.78.8-2.07 0-2.86zM5.41 20L4 18.59l7.72-7.72 1.47 1.35L5.41 20z\"/>\n",
              "  </svg>\n",
              "      </button>\n",
              "      \n",
              "  <style>\n",
              "    .colab-df-container {\n",
              "      display:flex;\n",
              "      flex-wrap:wrap;\n",
              "      gap: 12px;\n",
              "    }\n",
              "\n",
              "    .colab-df-convert {\n",
              "      background-color: #E8F0FE;\n",
              "      border: none;\n",
              "      border-radius: 50%;\n",
              "      cursor: pointer;\n",
              "      display: none;\n",
              "      fill: #1967D2;\n",
              "      height: 32px;\n",
              "      padding: 0 0 0 0;\n",
              "      width: 32px;\n",
              "    }\n",
              "\n",
              "    .colab-df-convert:hover {\n",
              "      background-color: #E2EBFA;\n",
              "      box-shadow: 0px 1px 2px rgba(60, 64, 67, 0.3), 0px 1px 3px 1px rgba(60, 64, 67, 0.15);\n",
              "      fill: #174EA6;\n",
              "    }\n",
              "\n",
              "    [theme=dark] .colab-df-convert {\n",
              "      background-color: #3B4455;\n",
              "      fill: #D2E3FC;\n",
              "    }\n",
              "\n",
              "    [theme=dark] .colab-df-convert:hover {\n",
              "      background-color: #434B5C;\n",
              "      box-shadow: 0px 1px 3px 1px rgba(0, 0, 0, 0.15);\n",
              "      filter: drop-shadow(0px 1px 2px rgba(0, 0, 0, 0.3));\n",
              "      fill: #FFFFFF;\n",
              "    }\n",
              "  </style>\n",
              "\n",
              "      <script>\n",
              "        const buttonEl =\n",
              "          document.querySelector('#df-357eab4c-70a5-4e5b-9390-d9eb752cf2c5 button.colab-df-convert');\n",
              "        buttonEl.style.display =\n",
              "          google.colab.kernel.accessAllowed ? 'block' : 'none';\n",
              "\n",
              "        async function convertToInteractive(key) {\n",
              "          const element = document.querySelector('#df-357eab4c-70a5-4e5b-9390-d9eb752cf2c5');\n",
              "          const dataTable =\n",
              "            await google.colab.kernel.invokeFunction('convertToInteractive',\n",
              "                                                     [key], {});\n",
              "          if (!dataTable) return;\n",
              "\n",
              "          const docLinkHtml = 'Like what you see? Visit the ' +\n",
              "            '<a target=\"_blank\" href=https://colab.research.google.com/notebooks/data_table.ipynb>data table notebook</a>'\n",
              "            + ' to learn more about interactive tables.';\n",
              "          element.innerHTML = '';\n",
              "          dataTable['output_type'] = 'display_data';\n",
              "          await google.colab.output.renderOutput(dataTable, element);\n",
              "          const docLink = document.createElement('div');\n",
              "          docLink.innerHTML = docLinkHtml;\n",
              "          element.appendChild(docLink);\n",
              "        }\n",
              "      </script>\n",
              "    </div>\n",
              "  </div>\n",
              "  "
            ]
          },
          "metadata": {},
          "execution_count": 32
        }
      ]
    },
    {
      "cell_type": "markdown",
      "source": [
        "##### Some insights \n",
        "\n",
        "*   November and December are the highest months on sales and its values are high compared to all the rest points\n",
        "*   Except for temporalities almost all graphs are flat and store 1 have a trend up\n",
        "\n"
      ],
      "metadata": {
        "id": "yFgZyb4FVPuB"
      }
    },
    {
      "cell_type": "code",
      "source": [
        "data_stores = data.copy()\n",
        "\n",
        "data_stores = data_stores.drop(['Pcode', 'Price'], axis=1)\n",
        "data_stores_sum = data_stores.groupby('Scode').agg('sum')\n",
        "#data_stores_sum = data_stores_sum.reset_index()\n",
        "\n",
        "# function to calculate mean and std by row on dataframe\n",
        "def calculate_stats(row):\n",
        "  mean = row.mean()\n",
        "  std = row.std()\n",
        "  min = row.min()\n",
        "  max = row.max()\n",
        "  return pd.Series({'mean': mean, 'std': std, 'min': min, 'max': max})\n",
        "\n",
        "# get stats from data_stores_sum\n",
        "b_stats_stores = data_stores_sum.apply(calculate_stats, axis=1)\n",
        "\n",
        "# Print Stats before do changes\n",
        "print('Stats Stores before do changes:', b_stats_stores.round(2))\n",
        "\n",
        "# function to replace outliers according to a condition \n",
        "def replace_outliers(row, columns, umbral=0.3):\n",
        "    mean = row.mean()\n",
        "    std = row.std()\n",
        "    result = np.where(np.abs(row - mean) > umbral * std, mean, row)\n",
        "    return pd.Series(result, index=columns)     \n",
        "\n",
        "# Columns\n",
        "columns = data_stores_sum.columns\n",
        "\n",
        "# Apply to dataframe call data_stores_sum\n",
        "data_stores_adj = data_stores_sum.apply(lambda row: replace_outliers(row, columns), axis=1)\n",
        "\n",
        "# Print Stats after do changes\n",
        "a_stats_stores = data_stores_adj.apply(calculate_stats, axis=1)\n",
        "print('Stats Stores after do changes:', a_stats_stores.round(2))\n",
        "\n",
        "\n",
        "data_stores_adj = data_stores_adj.reset_index()\n",
        "# Convert columns to variables \n",
        "data_stores_melted = pd.melt(data_stores_adj, id_vars='Scode', var_name='Weekly', value_name='Sales')\n",
        "#print(data_stores_melted)\n",
        "\n",
        "\n",
        "# Visualize data\n",
        "sns.lineplot(x='Weekly', y='Sales', hue='Scode', data=data_stores_melted)\n",
        "plt.show()\n"
      ],
      "metadata": {
        "id": "gbGENcy-8Pvw",
        "outputId": "d515036b-46f1-46b0-d5ac-9590c0210812",
        "colab": {
          "base_uri": "https://localhost:8080/",
          "height": 692
        }
      },
      "execution_count": 11,
      "outputs": [
        {
          "output_type": "stream",
          "name": "stdout",
          "text": [
            "Stats Stores before do changes:              mean        std      min        max\n",
            "Scode                                           \n",
            "Store1   36910.86   74254.49  15696.0   600418.0\n",
            "Store2  102784.80  235070.42  48045.0  1606515.0\n",
            "Store3  124970.72  228530.06  73230.0  1574098.0\n",
            "Store4   91578.05  176397.90  51693.0  1214483.0\n",
            "Store5   92136.11  178499.34  51722.0  1228985.0\n",
            "Stats Stores after do changes:             mean       std      min        max\n",
            "Scode                                         \n",
            "Store1  22196.65   5973.33  15696.0   47764.00\n",
            "Store2  54133.32  14143.05  48045.0  102784.80\n",
            "Store3  78286.74  13547.39  73230.0  124970.72\n",
            "Store4  55450.19  10485.52  51693.0   91578.05\n",
            "Store5  55590.84  10605.99  51722.0   92136.11\n"
          ]
        },
        {
          "output_type": "display_data",
          "data": {
            "text/plain": [
              "<Figure size 640x480 with 1 Axes>"
            ],
            "image/png": "[encoded data removed]"
          },
          "metadata": {}
        }
      ]
    },
    {
      "cell_type": "code",
      "source": [
        "# get each store data \n",
        "store1 = data.loc[data['Scode'] == 'Store1']\n",
        "store2 = data.loc[data['Scode'] == 'Store2']\n",
        "store3 = data.loc[data['Scode'] == 'Store3']\n",
        "store4 = data.loc[data['Scode'] == 'Store4']\n",
        "store5 = data.loc[data['Scode'] == 'Store5']"
      ],
      "metadata": {
        "id": "MJBv7Qk-aXgl"
      },
      "execution_count": 12,
      "outputs": []
    },
    {
      "cell_type": "markdown",
      "source": [
        "### **Analyzing data from Store 1**"
      ],
      "metadata": {
        "id": "f1XiE-wLvn4B"
      }
    },
    {
      "cell_type": "code",
      "source": [
        "#Store1\n",
        "#store1 = data.loc[data['Scode'] == 'Store1']\n",
        "store1.info()"
      ],
      "metadata": {
        "colab": {
          "base_uri": "https://localhost:8080/"
        },
        "id": "YikGDQVqZzJO",
        "outputId": "3a4c0a29-a3ec-435d-b4d7-b22b141f0e6f"
      },
      "execution_count": 13,
      "outputs": [
        {
          "output_type": "stream",
          "name": "stdout",
          "text": [
            "<class 'pandas.core.frame.DataFrame'>\n",
            "Int64Index: 1000 entries, 0 to 999\n",
            "Columns: 107 entries, Scode to 2023-12-25 00:00:00\n",
            "dtypes: float64(1), int64(104), object(2)\n",
            "memory usage: 843.8+ KB\n"
          ]
        }
      ]
    },
    {
      "cell_type": "code",
      "source": [
        "print(store1.shape)\n",
        "store1.head()"
      ],
      "metadata": {
        "colab": {
          "base_uri": "https://localhost:8080/",
          "height": 314
        },
        "id": "sbmgM92QyNrk",
        "outputId": "a960fcec-60b2-457e-e72b-91ff92f24e9f"
      },
      "execution_count": 14,
      "outputs": [
        {
          "output_type": "stream",
          "name": "stdout",
          "text": [
            "(1000, 107)\n"
          ]
        },
        {
          "output_type": "execute_result",
          "data": {
            "text/plain": [
              "    Scode Pcode  Price  2022-01-03 00:00:00  2022-01-10 00:00:00  \\\n",
              "0  Store1  SKU1   24.0                   23                   48   \n",
              "1  Store1  SKU2   63.0                   23                   22   \n",
              "2  Store1  SKU3   93.0                    7                   11   \n",
              "3  Store1  SKU4   48.0                   50                   31   \n",
              "4  Store1  SKU5   62.0                    8                    5   \n",
              "\n",
              "   2022-01-17 00:00:00  2022-01-24 00:00:00  2022-01-31 00:00:00  \\\n",
              "0                   47                   42                   22   \n",
              "1                   25                   40                   32   \n",
              "2                    8                    9                   10   \n",
              "3                   50                   33                   26   \n",
              "4                   13                   11                    6   \n",
              "\n",
              "   2022-02-07 00:00:00  2022-02-14 00:00:00  ...  2023-10-23 00:00:00  \\\n",
              "0                   29                   47  ...                   31   \n",
              "1                   26                   30  ...                   20   \n",
              "2                    8                    7  ...                    9   \n",
              "3                   27                   42  ...                   31   \n",
              "4                    7                    9  ...                   19   \n",
              "\n",
              "   2023-10-30 00:00:00  2023-11-06 00:00:00  2023-11-13 00:00:00  \\\n",
              "0                   37                   33                   40   \n",
              "1                   20                   25                   50   \n",
              "2                   17                   13                   30   \n",
              "3                   23                   26                   23   \n",
              "4                    9                   15                   21   \n",
              "\n",
              "   2023-11-20 00:00:00  2023-11-27 00:00:00  2023-12-04 00:00:00  \\\n",
              "0                  125                  133                  229   \n",
              "1                   75                   95                  231   \n",
              "2                   67                  188                  267   \n",
              "3                   92                  126                  205   \n",
              "4                   93                  243                  710   \n",
              "\n",
              "   2023-12-11 00:00:00  2023-12-18 00:00:00  2023-12-25 00:00:00  \n",
              "0                  381                   21                   31  \n",
              "1                  590                   25                   33  \n",
              "2                  330                   35                   33  \n",
              "3                  357                   30                   34  \n",
              "4                 1872                   33                   10  \n",
              "\n",
              "[5 rows x 107 columns]"
            ],
            "text/html": [
              "\n",
              "  <div id=\"df-ab937285-f6bb-4cab-9a73-b5062be1c805\">\n",
              "    <div class=\"colab-df-container\">\n",
              "      <div>\n",
              "<style scoped>\n",
              "    .dataframe tbody tr th:only-of-type {\n",
              "        vertical-align: middle;\n",
              "    }\n",
              "\n",
              "    .dataframe tbody tr th {\n",
              "        vertical-align: top;\n",
              "    }\n",
              "\n",
              "    .dataframe thead th {\n",
              "        text-align: right;\n",
              "    }\n",
              "</style>\n",
              "<table border=\"1\" class=\"dataframe\">\n",
              "  <thead>\n",
              "    <tr style=\"text-align: right;\">\n",
              "      <th></th>\n",
              "      <th>Scode</th>\n",
              "      <th>Pcode</th>\n",
              "      <th>Price</th>\n",
              "      <th>2022-01-03 00:00:00</th>\n",
              "      <th>2022-01-10 00:00:00</th>\n",
              "      <th>2022-01-17 00:00:00</th>\n",
              "      <th>2022-01-24 00:00:00</th>\n",
              "      <th>2022-01-31 00:00:00</th>\n",
              "      <th>2022-02-07 00:00:00</th>\n",
              "      <th>2022-02-14 00:00:00</th>\n",
              "      <th>...</th>\n",
              "      <th>2023-10-23 00:00:00</th>\n",
              "      <th>2023-10-30 00:00:00</th>\n",
              "      <th>2023-11-06 00:00:00</th>\n",
              "      <th>2023-11-13 00:00:00</th>\n",
              "      <th>2023-11-20 00:00:00</th>\n",
              "      <th>2023-11-27 00:00:00</th>\n",
              "      <th>2023-12-04 00:00:00</th>\n",
              "      <th>2023-12-11 00:00:00</th>\n",
              "      <th>2023-12-18 00:00:00</th>\n",
              "      <th>2023-12-25 00:00:00</th>\n",
              "    </tr>\n",
              "  </thead>\n",
              "  <tbody>\n",
              "    <tr>\n",
              "      <th>0</th>\n",
              "      <td>Store1</td>\n",
              "      <td>SKU1</td>\n",
              "      <td>24.0</td>\n",
              "      <td>23</td>\n",
              "      <td>48</td>\n",
              "      <td>47</td>\n",
              "      <td>42</td>\n",
              "      <td>22</td>\n",
              "      <td>29</td>\n",
              "      <td>47</td>\n",
              "      <td>...</td>\n",
              "      <td>31</td>\n",
              "      <td>37</td>\n",
              "      <td>33</td>\n",
              "      <td>40</td>\n",
              "      <td>125</td>\n",
              "      <td>133</td>\n",
              "      <td>229</td>\n",
              "      <td>381</td>\n",
              "      <td>21</td>\n",
              "      <td>31</td>\n",
              "    </tr>\n",
              "    <tr>\n",
              "      <th>1</th>\n",
              "      <td>Store1</td>\n",
              "      <td>SKU2</td>\n",
              "      <td>63.0</td>\n",
              "      <td>23</td>\n",
              "      <td>22</td>\n",
              "      <td>25</td>\n",
              "      <td>40</td>\n",
              "      <td>32</td>\n",
              "      <td>26</td>\n",
              "      <td>30</td>\n",
              "      <td>...</td>\n",
              "      <td>20</td>\n",
              "      <td>20</td>\n",
              "      <td>25</td>\n",
              "      <td>50</td>\n",
              "      <td>75</td>\n",
              "      <td>95</td>\n",
              "      <td>231</td>\n",
              "      <td>590</td>\n",
              "      <td>25</td>\n",
              "      <td>33</td>\n",
              "    </tr>\n",
              "    <tr>\n",
              "      <th>2</th>\n",
              "      <td>Store1</td>\n",
              "      <td>SKU3</td>\n",
              "      <td>93.0</td>\n",
              "      <td>7</td>\n",
              "      <td>11</td>\n",
              "      <td>8</td>\n",
              "      <td>9</td>\n",
              "      <td>10</td>\n",
              "      <td>8</td>\n",
              "      <td>7</td>\n",
              "      <td>...</td>\n",
              "      <td>9</td>\n",
              "      <td>17</td>\n",
              "      <td>13</td>\n",
              "      <td>30</td>\n",
              "      <td>67</td>\n",
              "      <td>188</td>\n",
              "      <td>267</td>\n",
              "      <td>330</td>\n",
              "      <td>35</td>\n",
              "      <td>33</td>\n",
              "    </tr>\n",
              "    <tr>\n",
              "      <th>3</th>\n",
              "      <td>Store1</td>\n",
              "      <td>SKU4</td>\n",
              "      <td>48.0</td>\n",
              "      <td>50</td>\n",
              "      <td>31</td>\n",
              "      <td>50</td>\n",
              "      <td>33</td>\n",
              "      <td>26</td>\n",
              "      <td>27</td>\n",
              "      <td>42</td>\n",
              "      <td>...</td>\n",
              "      <td>31</td>\n",
              "      <td>23</td>\n",
              "      <td>26</td>\n",
              "      <td>23</td>\n",
              "      <td>92</td>\n",
              "      <td>126</td>\n",
              "      <td>205</td>\n",
              "      <td>357</td>\n",
              "      <td>30</td>\n",
              "      <td>34</td>\n",
              "    </tr>\n",
              "    <tr>\n",
              "      <th>4</th>\n",
              "      <td>Store1</td>\n",
              "      <td>SKU5</td>\n",
              "      <td>62.0</td>\n",
              "      <td>8</td>\n",
              "      <td>5</td>\n",
              "      <td>13</td>\n",
              "      <td>11</td>\n",
              "      <td>6</td>\n",
              "      <td>7</td>\n",
              "      <td>9</td>\n",
              "      <td>...</td>\n",
              "      <td>19</td>\n",
              "      <td>9</td>\n",
              "      <td>15</td>\n",
              "      <td>21</td>\n",
              "      <td>93</td>\n",
              "      <td>243</td>\n",
              "      <td>710</td>\n",
              "      <td>1872</td>\n",
              "      <td>33</td>\n",
              "      <td>10</td>\n",
              "    </tr>\n",
              "  </tbody>\n",
              "</table>\n",
              "<p>5 rows × 107 columns</p>\n",
              "</div>\n",
              "      <button class=\"colab-df-convert\" onclick=\"convertToInteractive('df-ab937285-f6bb-4cab-9a73-b5062be1c805')\"\n",
              "              title=\"Convert this dataframe to an interactive table.\"\n",
              "              style=\"display:none;\">\n",
              "        \n",
              "  <svg xmlns=\"http://www.w3.org/2000/svg\" height=\"24px\"viewBox=\"0 0 24 24\"\n",
              "       width=\"24px\">\n",
              "    <path d=\"M0 0h24v24H0V0z\" fill=\"none\"/>\n",
              "    <path d=\"M18.56 5.44l.94 2.06.94-2.06 2.06-.94-2.06-.94-.94-2.06-.94 2.06-2.06.94zm-11 1L8.5 8.5l.94-2.06 2.06-.94-2.06-.94L8.5 2.5l-.94 2.06-2.06.94zm10 10l.94 2.06.94-2.06 2.06-.94-2.06-.94-.94-2.06-.94 2.06-2.06.94z\"/><path d=\"M17.41 7.96l-1.37-1.37c-.4-.4-.92-.59-1.43-.59-.52 0-1.04.2-1.43.59L10.3 9.45l-7.72 7.72c-.78.78-.78 2.05 0 2.83L4 21.41c.39.39.9.59 1.41.59.51 0 1.02-.2 1.41-.59l7.78-7.78 2.81-2.81c.8-.78.8-2.07 0-2.86zM5.41 20L4 18.59l7.72-7.72 1.47 1.35L5.41 20z\"/>\n",
              "  </svg>\n",
              "      </button>\n",
              "      \n",
              "  <style>\n",
              "    .colab-df-container {\n",
              "      display:flex;\n",
              "      flex-wrap:wrap;\n",
              "      gap: 12px;\n",
              "    }\n",
              "\n",
              "    .colab-df-convert {\n",
              "      background-color: #E8F0FE;\n",
              "      border: none;\n",
              "      border-radius: 50%;\n",
              "      cursor: pointer;\n",
              "      display: none;\n",
              "      fill: #1967D2;\n",
              "      height: 32px;\n",
              "      padding: 0 0 0 0;\n",
              "      width: 32px;\n",
              "    }\n",
              "\n",
              "    .colab-df-convert:hover {\n",
              "      background-color: #E2EBFA;\n",
              "      box-shadow: 0px 1px 2px rgba(60, 64, 67, 0.3), 0px 1px 3px 1px rgba(60, 64, 67, 0.15);\n",
              "      fill: #174EA6;\n",
              "    }\n",
              "\n",
              "    [theme=dark] .colab-df-convert {\n",
              "      background-color: #3B4455;\n",
              "      fill: #D2E3FC;\n",
              "    }\n",
              "\n",
              "    [theme=dark] .colab-df-convert:hover {\n",
              "      background-color: #434B5C;\n",
              "      box-shadow: 0px 1px 3px 1px rgba(0, 0, 0, 0.15);\n",
              "      filter: drop-shadow(0px 1px 2px rgba(0, 0, 0, 0.3));\n",
              "      fill: #FFFFFF;\n",
              "    }\n",
              "  </style>\n",
              "\n",
              "      <script>\n",
              "        const buttonEl =\n",
              "          document.querySelector('#df-ab937285-f6bb-4cab-9a73-b5062be1c805 button.colab-df-convert');\n",
              "        buttonEl.style.display =\n",
              "          google.colab.kernel.accessAllowed ? 'block' : 'none';\n",
              "\n",
              "        async function convertToInteractive(key) {\n",
              "          const element = document.querySelector('#df-ab937285-f6bb-4cab-9a73-b5062be1c805');\n",
              "          const dataTable =\n",
              "            await google.colab.kernel.invokeFunction('convertToInteractive',\n",
              "                                                     [key], {});\n",
              "          if (!dataTable) return;\n",
              "\n",
              "          const docLinkHtml = 'Like what you see? Visit the ' +\n",
              "            '<a target=\"_blank\" href=https://colab.research.google.com/notebooks/data_table.ipynb>data table notebook</a>'\n",
              "            + ' to learn more about interactive tables.';\n",
              "          element.innerHTML = '';\n",
              "          dataTable['output_type'] = 'display_data';\n",
              "          await google.colab.output.renderOutput(dataTable, element);\n",
              "          const docLink = document.createElement('div');\n",
              "          docLink.innerHTML = docLinkHtml;\n",
              "          element.appendChild(docLink);\n",
              "        }\n",
              "      </script>\n",
              "    </div>\n",
              "  </div>\n",
              "  "
            ]
          },
          "metadata": {},
          "execution_count": 14
        }
      ]
    },
    {
      "cell_type": "markdown",
      "source": [
        "##### Understanding the distribution of variable called price\n",
        "##### It looks like good distribution with same quantity of products for each bins of size 10, slightly more in products with more highers prices "
      ],
      "metadata": {
        "id": "5O4rspLuhWOS"
      }
    },
    {
      "cell_type": "code",
      "source": [
        "s1_price = store1['Price']\n",
        "s1_price.describe()"
      ],
      "metadata": {
        "colab": {
          "base_uri": "https://localhost:8080/"
        },
        "id": "tnzh2pXcvgWn",
        "outputId": "b6c90801-3c06-4027-abb9-8015919cec71"
      },
      "execution_count": 15,
      "outputs": [
        {
          "output_type": "execute_result",
          "data": {
            "text/plain": [
              "count    1000.000000\n",
              "mean       55.919000\n",
              "std        27.140985\n",
              "min        10.000000\n",
              "25%        32.000000\n",
              "50%        56.000000\n",
              "75%        80.000000\n",
              "max       100.000000\n",
              "Name: Price, dtype: float64"
            ]
          },
          "metadata": {},
          "execution_count": 15
        }
      ]
    },
    {
      "cell_type": "code",
      "source": [
        "# Distribution of prices\n",
        "s1_price = s1_price.to_frame()\n",
        "s1_price_sorted = s1_price.sort_values('Price')\n",
        "\n",
        "plt.hist(s1_price_sorted, bins=np.arange(10,110,10), alpha=0.5)\n",
        "plt.show()"
      ],
      "metadata": {
        "colab": {
          "base_uri": "https://localhost:8080/",
          "height": 430
        },
        "id": "we-Tb1oQdFNq",
        "outputId": "8b2dff87-ab7d-4435-d791-b97ed485b169"
      },
      "execution_count": 16,
      "outputs": [
        {
          "output_type": "display_data",
          "data": {
            "text/plain": [
              "<Figure size 640x480 with 1 Axes>"
            ],
            "image/png": "[encoded data removed]"
          },
          "metadata": {}
        }
      ]
    },
    {
      "cell_type": "markdown",
      "source": [
        "##### Observe some stats by each SKU before change outliers by mean"
      ],
      "metadata": {
        "id": "iJJjmg1twZHM"
      }
    },
    {
      "cell_type": "code",
      "source": [
        "# Grouping by SKUs\n",
        "data_skus1 = store1.drop(['Price'], axis=1)\n",
        "data_skus1_sum = data_skus1.groupby(['Scode', 'Pcode']).agg('sum')\n",
        "\n",
        "# get stats for each SKUs\n",
        "b_stats_skus1 = data_skus1_sum.apply(calculate_stats, axis=1).round(1)\n",
        "\n",
        "# Print stats\n",
        "print('-----------------------------------------------------------------------------------------')\n",
        "print('The top 3 SKUs with highest week sales:') \n",
        "print(b_stats_skus1.sort_values('max', ascending=False).head(3))\n",
        "print('-----------------------------------------------------------------------------------------')\n",
        "print('The top 3 SKUs with lowest week sales:') \n",
        "print(b_stats_skus1.sort_values('min', ascending=True).head(3))\n",
        "print('-----------------------------------------------------------------------------------------')\n",
        "print('The top 3 SKUs with highest std:') \n",
        "print(b_stats_skus1.sort_values('std', ascending=False).head(3))\n",
        "print('-----------------------------------------------------------------------------------------')\n",
        "print('The top 3 SKUs with lowest std:') \n",
        "print(b_stats_skus1.sort_values('std', ascending=True).head(3))\n",
        "print('-----------------------------------------------------------------------------------------')\n",
        "print('The top 3 SKUs with highest mean:') \n",
        "print(b_stats_skus1.sort_values('mean', ascending=False).head(3))\n",
        "print('-----------------------------------------------------------------------------------------')\n",
        "print('The top 3 SKUs with lowest mean:') \n",
        "print(b_stats_skus1.sort_values('mean', ascending=True).head(3))\n",
        "print('-----------------------------------------------------------------------------------------')"
      ],
      "metadata": {
        "colab": {
          "base_uri": "https://localhost:8080/"
        },
        "id": "1shisu4To4wC",
        "outputId": "af22a0a5-a6cf-46f8-8024-8c64097aab8c"
      },
      "execution_count": 17,
      "outputs": [
        {
          "output_type": "stream",
          "name": "stdout",
          "text": [
            "-----------------------------------------------------------------------------------------\n",
            "The top 3 SKUs with highest week sales:\n",
            "                mean    std   min     max\n",
            "Scode  Pcode                             \n",
            "Store1 SKU909  117.2  347.9  50.0  3299.0\n",
            "       SKU963  106.8  327.6  50.0  3196.0\n",
            "       SKU950  108.6  300.1  50.0  2834.0\n",
            "-----------------------------------------------------------------------------------------\n",
            "The top 3 SKUs with lowest week sales:\n",
            "               mean    std  min    max\n",
            "Scode  Pcode                          \n",
            "Store1 SKU832  42.1  107.5  0.0  933.0\n",
            "       SKU378  14.2   31.4  0.0  252.0\n",
            "       SKU377  24.1  103.3  0.0  995.0\n",
            "-----------------------------------------------------------------------------------------\n",
            "The top 3 SKUs with highest std:\n",
            "                mean    std   min     max\n",
            "Scode  Pcode                             \n",
            "Store1 SKU909  117.2  347.9  50.0  3299.0\n",
            "       SKU963  106.8  327.6  50.0  3196.0\n",
            "       SKU988  113.1  301.4  50.0  2756.0\n",
            "-----------------------------------------------------------------------------------------\n",
            "The top 3 SKUs with lowest std:\n",
            "               mean   std  min    max\n",
            "Scode  Pcode                         \n",
            "Store1 SKU728  10.9  16.3  0.0  112.0\n",
            "       SKU662  11.4  17.2  0.0  128.0\n",
            "       SKU218  11.8  18.9  0.0  118.0\n",
            "-----------------------------------------------------------------------------------------\n",
            "The top 3 SKUs with highest mean:\n",
            "                mean    std   min     max\n",
            "Scode  Pcode                             \n",
            "Store1 SKU909  117.2  347.9  50.0  3299.0\n",
            "       SKU988  113.1  301.4  50.0  2756.0\n",
            "       SKU950  108.6  300.1  50.0  2834.0\n",
            "-----------------------------------------------------------------------------------------\n",
            "The top 3 SKUs with lowest mean:\n",
            "               mean   std  min    max\n",
            "Scode  Pcode                         \n",
            "Store1 SKU728  10.9  16.3  0.0  112.0\n",
            "       SKU721  11.1  20.1  0.0  150.0\n",
            "       SKU662  11.4  17.2  0.0  128.0\n",
            "-----------------------------------------------------------------------------------------\n"
          ]
        }
      ]
    },
    {
      "cell_type": "markdown",
      "source": [
        "##### Plotting Trend"
      ],
      "metadata": {
        "id": "9rtRgdxf0xyO"
      }
    },
    {
      "cell_type": "code",
      "source": [
        "data_skus1_sum = data_skus1_sum.reset_index()\n",
        "data_skus1_temp = data_skus1_sum.drop('Pcode', axis=1)\n",
        "data_skus1_melted = pd.melt(data_skus1_temp, id_vars='Scode', var_name='Weekly', value_name='Sales')\n",
        "#print(data_skus1_melted)\n",
        "\n",
        "\n",
        "#data_1_skus = data_skus1_melted.drop('Pcode', axis=1)\n",
        "data_1_skus_agg = data_skus1_melted.groupby('Weekly').agg('sum')\n",
        "data_1_skus_agg = data_1_skus_agg.reset_index()\n",
        "#print(data_1_skus_agg)\n",
        "\n",
        "# Visualize Data\n",
        "sns.lineplot(x='Weekly', y='Sales', data=data_1_skus_agg)\n",
        "plt.show()\n"
      ],
      "metadata": {
        "colab": {
          "base_uri": "https://localhost:8080/",
          "height": 484
        },
        "id": "xWnBPR0-0kbp",
        "outputId": "d60204b6-88bc-4675-81d7-745fca7bd9a7"
      },
      "execution_count": 18,
      "outputs": [
        {
          "output_type": "stream",
          "name": "stderr",
          "text": [
            "<ipython-input-18-7e5d3e133590>:8: FutureWarning: The default value of numeric_only in DataFrameGroupBy.sum is deprecated. In a future version, numeric_only will default to False. Either specify numeric_only or select only columns which should be valid for the function.\n",
            "  data_1_skus_agg = data_skus1_melted.groupby('Weekly').agg('sum')\n"
          ]
        },
        {
          "output_type": "display_data",
          "data": {
            "text/plain": [
              "<Figure size 640x480 with 1 Axes>"
            ],
            "image/png": "[encoded data removed]"
          },
          "metadata": {}
        }
      ]
    },
    {
      "cell_type": "code",
      "source": [
        "data_skus1_sum = data_skus1_sum.set_index(['Scode', 'Pcode'])\n",
        "columns_skus1 = data_skus1_sum.columns\n",
        "\n",
        "data_skus1_adj = data_skus1_sum.apply(lambda row: replace_outliers(row, columns_skus1), axis=1)\n",
        "\n",
        "a_stats_skus1 = data_skus1_adj.apply(calculate_stats, axis=1).round(1)\n",
        "\n",
        "# Print stats\n",
        "print('-----------------------------------------------------------------------------------------')\n",
        "print('The top 3 SKUs with highest week sales:') \n",
        "print(a_stats_skus1.sort_values('max', ascending=False).head(3))\n",
        "print('-----------------------------------------------------------------------------------------')\n",
        "print('The top 3 SKUs with lowest week sales:') \n",
        "print(a_stats_skus1.sort_values('min', ascending=True).head(3))\n",
        "print('-----------------------------------------------------------------------------------------')\n",
        "print('The top 3 SKUs with highest std:') \n",
        "print(a_stats_skus1.sort_values('std', ascending=False).head(3))\n",
        "print('-----------------------------------------------------------------------------------------')\n",
        "print('The top 3 SKUs with lowest std:') \n",
        "print(a_stats_skus1.sort_values('std', ascending=True).head(3))\n",
        "print('-----------------------------------------------------------------------------------------')\n",
        "print('The top 3 SKUs with highest mean:') \n",
        "print(a_stats_skus1.sort_values('mean', ascending=False).head(3))\n",
        "print('-----------------------------------------------------------------------------------------')\n",
        "print('The top 3 SKUs with lowest mean:') \n",
        "print(a_stats_skus1.sort_values('mean', ascending=True).head(3))\n",
        "print('-----------------------------------------------------------------------------------------')"
      ],
      "metadata": {
        "colab": {
          "base_uri": "https://localhost:8080/"
        },
        "id": "K8zLEHp2wmNT",
        "outputId": "8abf381f-fe1d-4a4c-c898-6fd5dd14a648"
      },
      "execution_count": 19,
      "outputs": [
        {
          "output_type": "stream",
          "name": "stdout",
          "text": [
            "-----------------------------------------------------------------------------------------\n",
            "The top 3 SKUs with highest week sales:\n",
            "               mean   std   min    max\n",
            "Scode  Pcode                          \n",
            "Store1 SKU909  60.9  21.0  50.0  178.0\n",
            "       SKU988  60.7  20.6  50.0  173.0\n",
            "       SKU949  60.6  18.9  50.0  172.0\n",
            "-----------------------------------------------------------------------------------------\n",
            "The top 3 SKUs with lowest week sales:\n",
            "               mean   std  min   max\n",
            "Scode  Pcode                        \n",
            "Store1 SKU226  10.1  11.6  0.0  35.0\n",
            "       SKU712   9.1  10.8  0.0  35.0\n",
            "       SKU672  10.9  11.8  0.0  35.0\n",
            "-----------------------------------------------------------------------------------------\n",
            "The top 3 SKUs with highest std:\n",
            "               mean   std   min    max\n",
            "Scode  Pcode                          \n",
            "Store1 SKU89   30.9  22.0   1.0  149.0\n",
            "       SKU909  60.9  21.0  50.0  178.0\n",
            "       SKU184  32.8  20.8   1.0  142.0\n",
            "-----------------------------------------------------------------------------------------\n",
            "The top 3 SKUs with lowest std:\n",
            "               mean  std  min   max\n",
            "Scode  Pcode                       \n",
            "Store1 SKU650  12.4  1.1  8.0  18.0\n",
            "       SKU662  11.5  1.1  7.0  16.0\n",
            "       SKU704  12.3  1.1  7.0  17.0\n",
            "-----------------------------------------------------------------------------------------\n",
            "The top 3 SKUs with highest mean:\n",
            "               mean   std   min    max\n",
            "Scode  Pcode                          \n",
            "Store1 SKU950  60.9  19.9  50.0  171.0\n",
            "       SKU909  60.9  21.0  50.0  178.0\n",
            "       SKU988  60.7  20.6  50.0  173.0\n",
            "-----------------------------------------------------------------------------------------\n",
            "The top 3 SKUs with lowest mean:\n",
            "               mean   std  min   max\n",
            "Scode  Pcode                        \n",
            "Store1 SKU683   7.8   9.0  0.0  29.0\n",
            "       SKU438   7.9  10.1  0.0  33.0\n",
            "       SKU251   8.1  10.6  0.0  35.0\n",
            "-----------------------------------------------------------------------------------------\n"
          ]
        }
      ]
    },
    {
      "cell_type": "markdown",
      "source": [
        "### Plotting Trend after change outliers by mean"
      ],
      "metadata": {
        "id": "0uTggK1h5VDS"
      }
    },
    {
      "cell_type": "code",
      "source": [
        "data_skus1_adj = data_skus1_adj.reset_index()\n",
        "data_skus1_adj_temp = data_skus1_adj.drop('Pcode', axis=1)\n",
        "\n",
        "data_skus1_melted_adj = pd.melt(data_skus1_adj_temp, id_vars='Scode', var_name='Weekly', value_name='Sales')\n",
        "\n",
        "#data_1_skus = data_skus1_melted.drop('Pcode', axis=1)\n",
        "data_1_skus_agg = data_skus1_melted_adj.groupby('Weekly').agg('sum')\n",
        "data_1_skus_agg = data_1_skus_agg.reset_index()\n",
        "#print(data_1_skus_agg)\n",
        "\n",
        "# Visualize data\n",
        "sns.lineplot(data_1_skus_agg, x='Weekly', y='Sales')\n",
        "plt.show()"
      ],
      "metadata": {
        "colab": {
          "base_uri": "https://localhost:8080/",
          "height": 484
        },
        "id": "BKJe2Dq65Sus",
        "outputId": "1e47e551-0e5b-4d0b-a1ca-1cf2e2707324"
      },
      "execution_count": 20,
      "outputs": [
        {
          "output_type": "stream",
          "name": "stderr",
          "text": [
            "<ipython-input-20-eda67dc4f63e>:7: FutureWarning: The default value of numeric_only in DataFrameGroupBy.sum is deprecated. In a future version, numeric_only will default to False. Either specify numeric_only or select only columns which should be valid for the function.\n",
            "  data_1_skus_agg = data_skus1_melted_adj.groupby('Weekly').agg('sum')\n"
          ]
        },
        {
          "output_type": "display_data",
          "data": {
            "text/plain": [
              "<Figure size 640x480 with 1 Axes>"
            ],
            "image/png": "[encoded data removed]"
          },
          "metadata": {}
        }
      ]
    },
    {
      "cell_type": "markdown",
      "source": [
        "#####The objective in this part is understand in detail the time series and get some insights. Use the clasic descomposition in 3 phases that are trend, seasonality and residuals.\n",
        "\n",
        "\n",
        "Observe that exist a trend up in the general data althought in some periods exists trends down. In the months of November and December are the better months of year and note that after this months the trend does not have changes abruts.And the resudual is flat then all info is capture between trend and seasonalities."
      ],
      "metadata": {
        "id": "MSjdSSZFN_AV"
      }
    },
    {
      "cell_type": "code",
      "source": [
        "# Review of seasonality, cyclicality and trend of the general data of store 1 through a decomposition of the time series ... \n",
        "ts_store1 = data_1_skus_agg.copy()\n",
        "\n",
        "ts_store1 = ts_store1.set_index('Weekly').round(2)\n",
        "print(ts_store1)\n",
        "\n",
        "# Classic Descomposition\n",
        "from statsmodels.tsa.seasonal import seasonal_decompose\n",
        "decomp = seasonal_decompose(ts_store1, model='additive')\n",
        "\n",
        "fig, ax = plt.subplots(nrows=4, figsize=(10,10), sharex=True)\n",
        "ax[0].plot(ts_store1)\n",
        "ax[0].set_ylabel('Sales')\n",
        "ax[1].plot(decomp.trend)\n",
        "ax[1].set_ylabel('Tendencia')\n",
        "ax[2].plot(decomp.seasonal)\n",
        "ax[2].set_ylabel('Estacionalidad')\n",
        "ax[3].plot(decomp.resid)\n",
        "ax[3].set_ylabel('Residuo')\n",
        "plt.show()"
      ],
      "metadata": {
        "colab": {
          "base_uri": "https://localhost:8080/",
          "height": 1000
        },
        "id": "qyompkb2IxXj",
        "outputId": "9f81acc6-357d-4bd3-f504-05d5aca71e36"
      },
      "execution_count": 21,
      "outputs": [
        {
          "output_type": "stream",
          "name": "stdout",
          "text": [
            "               Sales\n",
            "Weekly              \n",
            "2022-01-03  23323.41\n",
            "2022-01-10  23169.11\n",
            "2022-01-17  23522.03\n",
            "2022-01-24  23637.42\n",
            "2022-01-31  23459.91\n",
            "...              ...\n",
            "2023-11-27  37728.62\n",
            "2023-12-04  37128.43\n",
            "2023-12-11  36910.86\n",
            "2023-12-18  27192.56\n",
            "2023-12-25  26854.79\n",
            "\n",
            "[104 rows x 1 columns]\n"
          ]
        },
        {
          "output_type": "display_data",
          "data": {
            "text/plain": [
              "<Figure size 1000x1000 with 4 Axes>"
            ],
            "image/png": "[encoded data removed]"
          },
          "metadata": {}
        }
      ]
    },
    {
      "cell_type": "markdown",
      "source": [
        "##### Adjust a Regresion Linear on all data\n",
        "\n"
      ],
      "metadata": {
        "id": "KA7NutR-R3tT"
      }
    },
    {
      "cell_type": "code",
      "source": [
        "# Linear Regression\n",
        "from sklearn.linear_model import LinearRegression\n",
        "\n",
        "linear_s1 = ts_store1.copy()\n",
        "linear_s1 = linear_s1.reset_index()\n",
        "\n",
        "linear_s1['Weekly'] = pd.to_datetime(linear_s1['Weekly']).astype(int)\n",
        "\n",
        "t = int(len(linear_s1)*0.8)\n",
        "\n",
        "# Train and Test Data\n",
        "train_data = linear_s1.iloc[:t]\n",
        "test_data = linear_s1.iloc[t:]\n",
        "\n",
        "model = LinearRegression()\n",
        "\n",
        "model.fit(train_data[['Weekly']], train_data['Sales'])\n",
        "\n",
        "pred = model.predict(test_data[['Weekly']])\n",
        "\n",
        "# Visualize Data\n",
        "plt.plot(train_data['Weekly'], train_data['Sales'], label='Training Data')\n",
        "plt.plot(test_data['Weekly'], test_data['Sales'], label='Testing Data')\n",
        "plt.plot(test_data['Weekly'], pred, label='Predictions')\n",
        "plt.legend()\n",
        "plt.show()"
      ],
      "metadata": {
        "colab": {
          "base_uri": "https://localhost:8080/",
          "height": 448
        },
        "id": "cF9ErWnR7CCS",
        "outputId": "6363bdd7-8639-43c8-e405-da5f0a2e3605"
      },
      "execution_count": 22,
      "outputs": [
        {
          "output_type": "display_data",
          "data": {
            "text/plain": [
              "<Figure size 640x480 with 1 Axes>"
            ],
            "image/png": "[encoded data removed]"
          },
          "metadata": {}
        }
      ]
    },
    {
      "cell_type": "markdown",
      "source": [
        "* Una manera de cuantificar la precision de nuestro regresion lineal es calcular la media absoluta de los errores y la media de los errores cuadraticos. La segunda penaliza mas según el tamaño del error por lo que el valor tiende a hacer mayor. Acá podemos ver para MAE un valor relativamente bajo considerando el seasonality. "
      ],
      "metadata": {
        "id": "cv7-C3lhEMQN"
      }
    },
    {
      "cell_type": "code",
      "source": [
        "from sklearn.metrics import mean_absolute_error, mean_squared_error\n",
        "\n",
        "# Measure Performance using Mean Absolute Error\n",
        "mae = mean_absolute_error(test_data['Sales'], pred)\n",
        "print(\"MAE:\", mae.round(0))\n",
        "# Measure Performance using Mean Squared Error\n",
        "mse = mean_squared_error(test_data['Sales'], pred)\n",
        "print(\"MSE:\", mse.round(0))"
      ],
      "metadata": {
        "colab": {
          "base_uri": "https://localhost:8080/"
        },
        "id": "EHd2QwzqBqc5",
        "outputId": "66e49bf4-b8c8-4b0d-c448-cc8ab8668c23"
      },
      "execution_count": 23,
      "outputs": [
        {
          "output_type": "stream",
          "name": "stdout",
          "text": [
            "MAE: 3067.0\n",
            "MSE: 17221268.0\n"
          ]
        }
      ]
    },
    {
      "cell_type": "code",
      "source": [
        "# Forecast Next 3 Months\n",
        "from datetime import datetime, timedelta\n",
        "\n",
        "linear_s1['Weekly'] = pd.to_datetime(linear_s1['Weekly'], unit='ns')\n",
        "last_date = linear_s1['Weekly'].max()\n",
        "\n",
        "next_weeks = pd.DataFrame({'Weekly': [last_date + timedelta(weeks=1),\n",
        "                                      last_date + timedelta(weeks=2),\n",
        "                                      last_date + timedelta(weeks=3),\n",
        "                                      last_date + timedelta(weeks=4),\n",
        "                                      last_date + timedelta(weeks=5),\n",
        "                                      last_date + timedelta(weeks=6),\n",
        "                                      last_date + timedelta(weeks=7),\n",
        "                                      last_date + timedelta(weeks=8),\n",
        "                                      last_date + timedelta(weeks=9),\n",
        "                                      last_date + timedelta(weeks=10),\n",
        "                                      last_date + timedelta(weeks=11),\n",
        "                                      last_date + timedelta(weeks=12)]})\n",
        "\n",
        "next_weeks['Sales'] = model.predict(next_weeks[['Weekly']].astype(int))\n",
        "\n",
        "print(next_weeks['Sales'].sum().round())"
      ],
      "metadata": {
        "colab": {
          "base_uri": "https://localhost:8080/"
        },
        "id": "dUIi_-LhIF79",
        "outputId": "8dfd15a7-5d5e-46e5-f9cc-88d42d66d492"
      },
      "execution_count": 24,
      "outputs": [
        {
          "output_type": "stream",
          "name": "stdout",
          "text": [
            "361632.0\n"
          ]
        }
      ]
    },
    {
      "cell_type": "markdown",
      "source": [
        "#### **Analyzing data from Store 2**"
      ],
      "metadata": {
        "id": "bNubBVn98dxT"
      }
    },
    {
      "cell_type": "code",
      "source": [
        "store2.info()"
      ],
      "metadata": {
        "colab": {
          "base_uri": "https://localhost:8080/"
        },
        "id": "VTwSrWRA8M4f",
        "outputId": "1a64dd10-1564-425a-f9b9-3be72c05c92f"
      },
      "execution_count": 39,
      "outputs": [
        {
          "output_type": "stream",
          "name": "stdout",
          "text": [
            "<class 'pandas.core.frame.DataFrame'>\n",
            "Int64Index: 1000 entries, 1000 to 1999\n",
            "Columns: 107 entries, Scode to 2023-12-25 00:00:00\n",
            "dtypes: float64(1), int64(104), object(2)\n",
            "memory usage: 843.8+ KB\n"
          ]
        }
      ]
    },
    {
      "cell_type": "code",
      "source": [
        "s2_price = store2['Price']\n",
        "#s2_price.describe()\n",
        "\n",
        "# Distribution of prices\n",
        "s2_price = s2_price.to_frame()\n",
        "s2_price_sorted = s2_price.sort_values('Price')\n",
        "\n",
        "plt.hist(s2_price_sorted, bins=np.arange(10,110,10), alpha=0.5)\n",
        "plt.show()"
      ],
      "metadata": {
        "colab": {
          "base_uri": "https://localhost:8080/",
          "height": 430
        },
        "id": "ygzf2fPj-tCV",
        "outputId": "4be4c889-6f56-42f1-f6fb-16cd0290913b"
      },
      "execution_count": 42,
      "outputs": [
        {
          "output_type": "display_data",
          "data": {
            "text/plain": [
              "<Figure size 640x480 with 1 Axes>"
            ],
            "image/png": "[encoded data removed]"
          },
          "metadata": {}
        }
      ]
    },
    {
      "cell_type": "markdown",
      "source": [
        "##### Observe some stats by each SKU before change outliers by mean"
      ],
      "metadata": {
        "id": "AX6KRRiHAywf"
      }
    },
    {
      "cell_type": "code",
      "source": [
        "# Grouping by SKUs\n",
        "data_skus2 = store2.drop(['Price'], axis=1)\n",
        "data_skus2_sum = data_skus2.groupby(['Scode', 'Pcode']).agg('sum')\n",
        "\n",
        "# get stats for each SKUs\n",
        "b_stats_skus2 = data_skus2_sum.apply(calculate_stats, axis=1).round(1)\n",
        "\n",
        "# Print stats\n",
        "print('-----------------------------------------------------------------------------------------')\n",
        "print('The top 3 SKUs with highest week sales:') \n",
        "print(b_stats_skus2.sort_values('max', ascending=False).head(3))\n",
        "print('-----------------------------------------------------------------------------------------')\n",
        "print('The top 3 SKUs with lowest week sales:') \n",
        "print(b_stats_skus2.sort_values('min', ascending=True).head(3))\n",
        "print('-----------------------------------------------------------------------------------------')\n",
        "print('The top 3 SKUs with highest std:') \n",
        "print(b_stats_skus2.sort_values('std', ascending=False).head(3))\n",
        "print('-----------------------------------------------------------------------------------------')\n",
        "print('The top 3 SKUs with lowest std:') \n",
        "print(b_stats_skus2.sort_values('std', ascending=True).head(3))\n",
        "print('-----------------------------------------------------------------------------------------')\n",
        "print('The top 3 SKUs with highest mean:') \n",
        "print(b_stats_skus2.sort_values('mean', ascending=False).head(3))\n",
        "print('-----------------------------------------------------------------------------------------')\n",
        "print('The top 3 SKUs with lowest mean:') \n",
        "print(b_stats_skus2.sort_values('mean', ascending=True).head(3))\n",
        "print('-----------------------------------------------------------------------------------------')"
      ],
      "metadata": {
        "colab": {
          "base_uri": "https://localhost:8080/"
        },
        "id": "8JYqAQU2_w7I",
        "outputId": "bb709dcd-933f-4b53-bc4e-a2e2908b888f"
      },
      "execution_count": 59,
      "outputs": [
        {
          "output_type": "stream",
          "name": "stdout",
          "text": [
            "-----------------------------------------------------------------------------------------\n",
            "The top 3 SKUs with highest week sales:\n",
            "                mean    std  min     max\n",
            "Scode  Pcode                            \n",
            "Store2 SKU666  152.5  680.3  0.0  6605.0\n",
            "       SKU212  141.7  643.2  0.0  6243.0\n",
            "       SKU718  170.6  652.3  3.0  6003.0\n",
            "-----------------------------------------------------------------------------------------\n",
            "The top 3 SKUs with lowest week sales:\n",
            "                mean    std  min     max\n",
            "Scode  Pcode                            \n",
            "Store2 SKU861   62.8   74.6  0.0   526.0\n",
            "       SKU488   76.7  146.8  0.0  1256.0\n",
            "       SKU811  124.3  323.3  0.0  1961.0\n",
            "-----------------------------------------------------------------------------------------\n",
            "The top 3 SKUs with highest std:\n",
            "                mean    std  min     max\n",
            "Scode  Pcode                            \n",
            "Store2 SKU494  218.9  830.3  0.0  5859.0\n",
            "       SKU666  152.5  680.3  0.0  6605.0\n",
            "       SKU649  189.0  679.4  0.0  5203.0\n",
            "-----------------------------------------------------------------------------------------\n",
            "The top 3 SKUs with lowest std:\n",
            "               mean   std  min    max\n",
            "Scode  Pcode                         \n",
            "Store2 SKU501  60.9  56.6  0.0  333.0\n",
            "       SKU969  66.2  62.6  2.0  489.0\n",
            "       SKU706  63.2  63.5  1.0  428.0\n",
            "-----------------------------------------------------------------------------------------\n",
            "The top 3 SKUs with highest mean:\n",
            "                mean    std  min     max\n",
            "Scode  Pcode                            \n",
            "Store2 SKU494  218.9  830.3  0.0  5859.0\n",
            "       SKU649  189.0  679.4  0.0  5203.0\n",
            "       SKU991  180.9  647.8  2.0  5468.0\n",
            "-----------------------------------------------------------------------------------------\n",
            "The top 3 SKUs with lowest mean:\n",
            "               mean   std  min    max\n",
            "Scode  Pcode                         \n",
            "Store2 SKU501  60.9  56.6  0.0  333.0\n",
            "       SKU850  61.5  77.1  2.0  546.0\n",
            "       SKU861  62.8  74.6  0.0  526.0\n",
            "-----------------------------------------------------------------------------------------\n"
          ]
        }
      ]
    },
    {
      "cell_type": "code",
      "source": [
        "data_skus2_sum = data_skus2_sum.reset_index()\n",
        "data_skus2_temp = data_skus2_sum.drop('Pcode', axis=1)\n",
        "data_skus2_melted = pd.melt(data_skus2_temp, id_vars='Scode', var_name='Weekly', value_name='Sales')\n",
        "#print(data_skus2_melted)\n",
        "\n",
        "\n",
        "#data_2_skus = data_skus2_melted.drop('Pcode', axis=1)\n",
        "data_2_skus_agg = data_skus2_melted.groupby('Weekly').agg('sum')\n",
        "data_2_skus_agg = data_2_skus_agg.reset_index()\n",
        "#print(data_2_skus_agg)\n",
        "\n",
        "# Visualize Data\n",
        "sns.lineplot(x='Weekly', y='Sales', data=data_2_skus_agg)\n",
        "plt.show()"
      ],
      "metadata": {
        "colab": {
          "base_uri": "https://localhost:8080/",
          "height": 500
        },
        "id": "qyFgCjTS_zQG",
        "outputId": "f0582663-f304-40ef-fe3e-9c1a4cf6f5b2"
      },
      "execution_count": 60,
      "outputs": [
        {
          "output_type": "stream",
          "name": "stderr",
          "text": [
            "<ipython-input-60-f1be76fb734e>:8: FutureWarning: The default value of numeric_only in DataFrameGroupBy.sum is deprecated. In a future version, numeric_only will default to False. Either specify numeric_only or select only columns which should be valid for the function.\n",
            "  data_2_skus_agg = data_skus2_melted.groupby('Weekly').agg('sum')\n"
          ]
        },
        {
          "output_type": "display_data",
          "data": {
            "text/plain": [
              "<Figure size 640x480 with 1 Axes>"
            ],
            "image/png": "[encoded data removed]"
          },
          "metadata": {}
        }
      ]
    },
    {
      "cell_type": "code",
      "source": [
        "data_skus2_sum = data_skus2_sum.set_index(['Scode', 'Pcode'])\n",
        "columns_skus2 = data_skus2_sum.columns\n",
        "\n",
        "data_skus2_adj = data_skus2_sum.apply(lambda row: replace_outliers(row, columns_skus2, 0.22), axis=1)\n",
        "\n",
        "a_stats_skus2 = data_skus2_adj.apply(calculate_stats, axis=1).round(1)\n",
        "\n",
        "# Print stats\n",
        "print('-----------------------------------------------------------------------------------------')\n",
        "print('The top 3 SKUs with highest week sales:') \n",
        "print(a_stats_skus2.sort_values('max', ascending=False).head(3))\n",
        "print('-----------------------------------------------------------------------------------------')\n",
        "print('The top 3 SKUs with lowest week sales:') \n",
        "print(a_stats_skus2.sort_values('min', ascending=True).head(3))\n",
        "print('-----------------------------------------------------------------------------------------')\n",
        "print('The top 3 SKUs with highest std:') \n",
        "print(a_stats_skus2.sort_values('std', ascending=False).head(3))\n",
        "print('-----------------------------------------------------------------------------------------')\n",
        "print('The top 3 SKUs with lowest std:') \n",
        "print(a_stats_skus2.sort_values('std', ascending=True).head(3))\n",
        "print('-----------------------------------------------------------------------------------------')\n",
        "print('The top 3 SKUs with highest mean:') \n",
        "print(a_stats_skus2.sort_values('mean', ascending=False).head(3))\n",
        "print('-----------------------------------------------------------------------------------------')\n",
        "print('The top 3 SKUs with lowest mean:') \n",
        "print(a_stats_skus2.sort_values('mean', ascending=True).head(3))\n",
        "print('-----------------------------------------------------------------------------------------')"
      ],
      "metadata": {
        "colab": {
          "base_uri": "https://localhost:8080/"
        },
        "id": "IcLxxxY7DcaP",
        "outputId": "4787652e-4669-4ee3-e8f6-f3e93aad6863"
      },
      "execution_count": 61,
      "outputs": [
        {
          "output_type": "stream",
          "name": "stdout",
          "text": [
            "-----------------------------------------------------------------------------------------\n",
            "The top 3 SKUs with highest week sales:\n",
            "                mean   std   min    max\n",
            "Scode  Pcode                           \n",
            "Store2 SKU666   68.5  55.4   4.0  302.0\n",
            "       SKU27   125.3  59.3  43.0  285.0\n",
            "       SKU348  111.9  54.2  38.0  283.0\n",
            "-----------------------------------------------------------------------------------------\n",
            "The top 3 SKUs with lowest week sales:\n",
            "               mean   std  min    max\n",
            "Scode  Pcode                         \n",
            "Store2 SKU212  59.2  45.7  1.0  277.0\n",
            "       SKU666  68.5  55.4  4.0  302.0\n",
            "       SKU964  61.4  44.7  5.0  268.0\n",
            "-----------------------------------------------------------------------------------------\n",
            "The top 3 SKUs with highest std:\n",
            "                mean   std   min    max\n",
            "Scode  Pcode                           \n",
            "Store2 SKU494  121.2  73.4  37.0  266.0\n",
            "       SKU649  126.8  62.3  40.0  277.0\n",
            "       SKU27   125.3  59.3  43.0  285.0\n",
            "-----------------------------------------------------------------------------------------\n",
            "The top 3 SKUs with lowest std:\n",
            "               mean  std   min   max\n",
            "Scode  Pcode                        \n",
            "Store2 SKU501  60.9  3.4  49.0  73.0\n",
            "       SKU706  63.3  3.7  50.0  74.0\n",
            "       SKU406  64.2  3.9  49.0  78.0\n",
            "-----------------------------------------------------------------------------------------\n",
            "The top 3 SKUs with highest mean:\n",
            "                mean   std   min    max\n",
            "Scode  Pcode                           \n",
            "Store2 SKU649  126.8  62.3  40.0  277.0\n",
            "       SKU27   125.3  59.3  43.0  285.0\n",
            "       SKU351  122.4  48.2  42.0  275.0\n",
            "-----------------------------------------------------------------------------------------\n",
            "The top 3 SKUs with lowest mean:\n",
            "               mean   std   min    max\n",
            "Scode  Pcode                          \n",
            "Store2 SKU212  59.2  45.7   1.0  277.0\n",
            "       SKU501  60.9   3.4  49.0   73.0\n",
            "       SKU850  60.9   4.6  46.0   78.0\n",
            "-----------------------------------------------------------------------------------------\n"
          ]
        }
      ]
    },
    {
      "cell_type": "code",
      "source": [
        "data_skus2_adj = data_skus2_adj.reset_index()\n",
        "data_skus2_adj_temp = data_skus2_adj.drop('Pcode', axis=1)\n",
        "\n",
        "data_skus2_melted_adj = pd.melt(data_skus2_adj_temp, id_vars='Scode', var_name='Weekly', value_name='Sales')\n",
        "\n",
        "#data_2_skus = data_skus2_melted.drop('Pcode', axis=1)\n",
        "data_2_skus_agg = data_skus2_melted_adj.groupby('Weekly').agg('sum')\n",
        "data_2_skus_agg = data_2_skus_agg.reset_index()\n",
        "#print(data_2_skus_agg)\n",
        "\n",
        "# Visualize data\n",
        "sns.lineplot(data_2_skus_agg, x='Weekly', y='Sales')\n",
        "plt.show()"
      ],
      "metadata": {
        "colab": {
          "base_uri": "https://localhost:8080/",
          "height": 487
        },
        "id": "HvPhUIQKE6Ba",
        "outputId": "76142bde-6835-4b3c-fd7b-2d1b910d11be"
      },
      "execution_count": 62,
      "outputs": [
        {
          "output_type": "stream",
          "name": "stderr",
          "text": [
            "<ipython-input-62-06b37a4e6bf8>:7: FutureWarning: The default value of numeric_only in DataFrameGroupBy.sum is deprecated. In a future version, numeric_only will default to False. Either specify numeric_only or select only columns which should be valid for the function.\n",
            "  data_2_skus_agg = data_skus2_melted_adj.groupby('Weekly').agg('sum')\n"
          ]
        },
        {
          "output_type": "display_data",
          "data": {
            "text/plain": [
              "<Figure size 640x480 with 1 Axes>"
            ],
            "image/png": "[encoded data removed]"
          },
          "metadata": {}
        }
      ]
    },
    {
      "cell_type": "markdown",
      "source": [],
      "metadata": {
        "id": "RXIEXoaRLCx-"
      }
    },
    {
      "cell_type": "code",
      "source": [
        "# Review of seasonality, cyclicality and trend of the general data of store 1 through a decomposition of the time series ... \n",
        "ts_store2 = data_2_skus_agg.copy()\n",
        "\n",
        "ts_store2 = ts_store2.set_index('Weekly').round(2)\n",
        "print(ts_store2)\n",
        "\n",
        "# Classic Descomposition\n",
        "from statsmodels.tsa.seasonal import seasonal_decompose\n",
        "decomp = seasonal_decompose(ts_store1, model='additive')\n",
        "\n",
        "fig, ax = plt.subplots(nrows=4, figsize=(10,10), sharex=True)\n",
        "ax[0].plot(ts_store2)\n",
        "ax[0].set_ylabel('Sales')\n",
        "ax[1].plot(decomp.trend)\n",
        "ax[1].set_ylabel('Tendencia')\n",
        "ax[2].plot(decomp.seasonal)\n",
        "ax[2].set_ylabel('Estacionalidad')\n",
        "ax[3].plot(decomp.resid)\n",
        "ax[3].set_ylabel('Residuo')\n",
        "plt.show()"
      ],
      "metadata": {
        "colab": {
          "base_uri": "https://localhost:8080/",
          "height": 1000
        },
        "id": "pLpQrEm5E970",
        "outputId": "04974fde-a6b3-4e3e-9505-90c80b5d026f"
      },
      "execution_count": 63,
      "outputs": [
        {
          "output_type": "stream",
          "name": "stdout",
          "text": [
            "                Sales\n",
            "Weekly               \n",
            "2022-01-03   85851.03\n",
            "2022-01-10   85406.37\n",
            "2022-01-17   85231.62\n",
            "2022-01-24   86482.59\n",
            "2022-01-31   85353.47\n",
            "...               ...\n",
            "2023-11-27  103772.92\n",
            "2023-12-04  103048.94\n",
            "2023-12-11  102880.09\n",
            "2023-12-18   85421.14\n",
            "2023-12-25   85811.12\n",
            "\n",
            "[104 rows x 1 columns]\n"
          ]
        },
        {
          "output_type": "display_data",
          "data": {
            "text/plain": [
              "<Figure size 1000x1000 with 4 Axes>"
            ],
            "image/png": "[encoded data removed]"
          },
          "metadata": {}
        }
      ]
    },
    {
      "cell_type": "markdown",
      "source": [],
      "metadata": {
        "id": "H3I6woeHM_rQ"
      }
    },
    {
      "cell_type": "code",
      "source": [
        "# Linear Regression\n",
        "from sklearn.linear_model import LinearRegression\n",
        "\n",
        "linear_s2 = ts_store2.copy()\n",
        "linear_s2 = linear_s2.reset_index()\n",
        "\n",
        "linear_s2['Weekly'] = pd.to_datetime(linear_s2['Weekly']).astype(int)\n",
        "\n",
        "t = int(len(linear_s2)*0.8)\n",
        "\n",
        "# Train and Test Data\n",
        "train_data_2 = linear_s2.iloc[:t]\n",
        "test_data_2 = linear_s2.iloc[t:]\n",
        "\n",
        "model = LinearRegression()\n",
        "\n",
        "model.fit(train_data_2[['Weekly']], train_data_2['Sales'])\n",
        "\n",
        "pred = model.predict(test_data_2[['Weekly']])\n",
        "\n",
        "# Visualize Data\n",
        "plt.plot(train_data_2['Weekly'], train_data_2['Sales'], label='Training Data')\n",
        "plt.plot(test_data_2['Weekly'], test_data_2['Sales'], label='Testing Data')\n",
        "plt.plot(test_data_2['Weekly'], pred, label='Predictions')\n",
        "plt.legend()\n",
        "plt.show()"
      ],
      "metadata": {
        "colab": {
          "base_uri": "https://localhost:8080/",
          "height": 451
        },
        "id": "2SIVvbb8FAYv",
        "outputId": "3a0c99a3-2509-482d-91e2-964fc0ac0b18"
      },
      "execution_count": 64,
      "outputs": [
        {
          "output_type": "display_data",
          "data": {
            "text/plain": [
              "<Figure size 640x480 with 1 Axes>"
            ],
            "image/png": "[encoded data removed]"
          },
          "metadata": {}
        }
      ]
    },
    {
      "cell_type": "code",
      "source": [
        "from sklearn.metrics import mean_absolute_error, mean_squared_error\n",
        "\n",
        "# Measure Performance using Mean Absolute Error\n",
        "mae_2 = mean_absolute_error(test_data_2['Sales'], pred)\n",
        "print(\"MAE:\", mae_2.round(0))\n",
        "# Measure Performance using Mean Squared Error\n",
        "mse_2 = mean_squared_error(test_data_2['Sales'], pred)\n",
        "print(\"MSE:\", mse_2.round(0))"
      ],
      "metadata": {
        "colab": {
          "base_uri": "https://localhost:8080/"
        },
        "id": "sUZYqL1nFD8G",
        "outputId": "0c843792-4ad4-4dc4-eeb1-83da66d2bfc5"
      },
      "execution_count": 65,
      "outputs": [
        {
          "output_type": "stream",
          "name": "stdout",
          "text": [
            "MAE: 4969.0\n",
            "MSE: 66621724.0\n"
          ]
        }
      ]
    },
    {
      "cell_type": "code",
      "source": [
        "# Forecast Next 3 Months\n",
        "from datetime import datetime, timedelta\n",
        "\n",
        "linear_s2['Weekly'] = pd.to_datetime(linear_s2['Weekly'], unit='ns')\n",
        "last_date = linear_s2['Weekly'].max()\n",
        "\n",
        "next_weeks = pd.DataFrame({'Weekly': [last_date + timedelta(weeks=1),\n",
        "                                      last_date + timedelta(weeks=2),\n",
        "                                      last_date + timedelta(weeks=3),\n",
        "                                      last_date + timedelta(weeks=4),\n",
        "                                      last_date + timedelta(weeks=5),\n",
        "                                      last_date + timedelta(weeks=6),\n",
        "                                      last_date + timedelta(weeks=7),\n",
        "                                      last_date + timedelta(weeks=8),\n",
        "                                      last_date + timedelta(weeks=9),\n",
        "                                      last_date + timedelta(weeks=10),\n",
        "                                      last_date + timedelta(weeks=11),\n",
        "                                      last_date + timedelta(weeks=12)]})\n",
        "\n",
        "next_weeks['Sales'] = model.predict(next_weeks[['Weekly']].astype(int))\n",
        "\n",
        "print(next_weeks['Sales'].sum().round())"
      ],
      "metadata": {
        "colab": {
          "base_uri": "https://localhost:8080/"
        },
        "id": "Cw4PRDQS-vck",
        "outputId": "70b33494-ac1a-453b-98c9-656fc847bd06"
      },
      "execution_count": 66,
      "outputs": [
        {
          "output_type": "stream",
          "name": "stdout",
          "text": [
            "1055620.0\n"
          ]
        }
      ]
    },
    {
      "cell_type": "code",
      "source": [],
      "metadata": {
        "id": "GLpiVcVQONWW"
      },
      "execution_count": null,
      "outputs": []
    },
    {
      "cell_type": "code",
      "source": [
        "import pandas as pd\n",
        "import xgboost as xgb\n",
        "from sklearn.metrics import mean_absolute_error\n",
        "\n",
        "# Leer datos\n",
        "data = pd.read_csv(\"ventas_semanales.csv\")\n",
        "\n",
        "# Dividir en entrenamiento y prueba\n",
        "train = data[:-4]\n",
        "test = data[-4:]\n",
        "\n",
        "# Separar variables independientes y dependientes\n",
        "train_X = train[[\"Semana\"]]\n",
        "train_y = train[\"Ventas\"]\n",
        "test_X = test[[\"Semana\"]]\n",
        "test_y = test[\"Ventas\"]\n",
        "\n",
        "# Crear matriz de entrenamiento y prueba\n",
        "dtrain = xgb.DMatrix(train_X, label=train_y)\n",
        "dtest = xgb.DMatrix(test_X, label=test_y)\n",
        "\n",
        "# Definir parámetros del modelo\n",
        "params = {\n",
        "    \"max_depth\": 3,\n",
        "    \"eta\": 0.1,\n",
        "    \"subsample\": 0.7,\n",
        "    \"objective\": \"reg:squarederror\",\n",
        "    \"eval_metric\": \"mae\"\n",
        "}\n",
        "\n",
        "# Entrenar modelo\n",
        "model = xgb.train(params, dtrain)\n",
        "\n",
        "# Realizar predicciones en el conjunto de prueba\n",
        "predictions = model.predict(dtest)\n",
        "\n",
        "# Calcular el error absoluto medio de las predicciones\n",
        "mae = mean_absolute_error(test_y, predictions)\n",
        "print(\"MAE:\", mae)"
      ],
      "metadata": {
        "colab": {
          "base_uri": "https://localhost:8080/",
          "height": 381
        },
        "id": "8gBW0t0P5N9x",
        "outputId": "4e746c96-c367-49c5-d288-451168e04c69"
      },
      "execution_count": 25,
      "outputs": [
        {
          "output_type": "error",
          "ename": "FileNotFoundError",
          "evalue": "ignored",
          "traceback": [
            "\u001b[0;31m---------------------------------------------------------------------------\u001b[0m",
            "\u001b[0;31mFileNotFoundError\u001b[0m                         Traceback (most recent call last)",
            "\u001b[0;32m<ipython-input-25-ef0f718156de>\u001b[0m in \u001b[0;36m<cell line: 6>\u001b[0;34m()\u001b[0m\n\u001b[1;32m      4\u001b[0m \u001b[0;34m\u001b[0m\u001b[0m\n\u001b[1;32m      5\u001b[0m \u001b[0;31m# Leer datos\u001b[0m\u001b[0;34m\u001b[0m\u001b[0;34m\u001b[0m\u001b[0m\n\u001b[0;32m----> 6\u001b[0;31m \u001b[0mdata\u001b[0m \u001b[0;34m=\u001b[0m \u001b[0mpd\u001b[0m\u001b[0;34m.\u001b[0m\u001b[0mread_csv\u001b[0m\u001b[0;34m(\u001b[0m\u001b[0;34m\"ventas_semanales.csv\"\u001b[0m\u001b[0;34m)\u001b[0m\u001b[0;34m\u001b[0m\u001b[0;34m\u001b[0m\u001b[0m\n\u001b[0m\u001b[1;32m      7\u001b[0m \u001b[0;34m\u001b[0m\u001b[0m\n\u001b[1;32m      8\u001b[0m \u001b[0;31m# Dividir en entrenamiento y prueba\u001b[0m\u001b[0;34m\u001b[0m\u001b[0;34m\u001b[0m\u001b[0m\n",
            "\u001b[0;32m/usr/local/lib/python3.10/dist-packages/pandas/util/_decorators.py\u001b[0m in \u001b[0;36mwrapper\u001b[0;34m(*args, **kwargs)\u001b[0m\n\u001b[1;32m    209\u001b[0m                 \u001b[0;32melse\u001b[0m\u001b[0;34m:\u001b[0m\u001b[0;34m\u001b[0m\u001b[0;34m\u001b[0m\u001b[0m\n\u001b[1;32m    210\u001b[0m                     \u001b[0mkwargs\u001b[0m\u001b[0;34m[\u001b[0m\u001b[0mnew_arg_name\u001b[0m\u001b[0;34m]\u001b[0m \u001b[0;34m=\u001b[0m \u001b[0mnew_arg_value\u001b[0m\u001b[0;34m\u001b[0m\u001b[0;34m\u001b[0m\u001b[0m\n\u001b[0;32m--> 211\u001b[0;31m             \u001b[0;32mreturn\u001b[0m \u001b[0mfunc\u001b[0m\u001b[0;34m(\u001b[0m\u001b[0;34m*\u001b[0m\u001b[0margs\u001b[0m\u001b[0;34m,\u001b[0m \u001b[0;34m**\u001b[0m\u001b[0mkwargs\u001b[0m\u001b[0;34m)\u001b[0m\u001b[0;34m\u001b[0m\u001b[0;34m\u001b[0m\u001b[0m\n\u001b[0m\u001b[1;32m    212\u001b[0m \u001b[0;34m\u001b[0m\u001b[0m\n\u001b[1;32m    213\u001b[0m         \u001b[0;32mreturn\u001b[0m \u001b[0mcast\u001b[0m\u001b[0;34m(\u001b[0m\u001b[0mF\u001b[0m\u001b[0;34m,\u001b[0m \u001b[0mwrapper\u001b[0m\u001b[0;34m)\u001b[0m\u001b[0;34m\u001b[0m\u001b[0;34m\u001b[0m\u001b[0m\n",
            "\u001b[0;32m/usr/local/lib/python3.10/dist-packages/pandas/util/_decorators.py\u001b[0m in \u001b[0;36mwrapper\u001b[0;34m(*args, **kwargs)\u001b[0m\n\u001b[1;32m    329\u001b[0m                     \u001b[0mstacklevel\u001b[0m\u001b[0;34m=\u001b[0m\u001b[0mfind_stack_level\u001b[0m\u001b[0;34m(\u001b[0m\u001b[0;34m)\u001b[0m\u001b[0;34m,\u001b[0m\u001b[0;34m\u001b[0m\u001b[0;34m\u001b[0m\u001b[0m\n\u001b[1;32m    330\u001b[0m                 )\n\u001b[0;32m--> 331\u001b[0;31m             \u001b[0;32mreturn\u001b[0m \u001b[0mfunc\u001b[0m\u001b[0;34m(\u001b[0m\u001b[0;34m*\u001b[0m\u001b[0margs\u001b[0m\u001b[0;34m,\u001b[0m \u001b[0;34m**\u001b[0m\u001b[0mkwargs\u001b[0m\u001b[0;34m)\u001b[0m\u001b[0;34m\u001b[0m\u001b[0;34m\u001b[0m\u001b[0m\n\u001b[0m\u001b[1;32m    332\u001b[0m \u001b[0;34m\u001b[0m\u001b[0m\n\u001b[1;32m    333\u001b[0m         \u001b[0;31m# error: \"Callable[[VarArg(Any), KwArg(Any)], Any]\" has no\u001b[0m\u001b[0;34m\u001b[0m\u001b[0;34m\u001b[0m\u001b[0m\n",
            "\u001b[0;32m/usr/local/lib/python3.10/dist-packages/pandas/io/parsers/readers.py\u001b[0m in \u001b[0;36mread_csv\u001b[0;34m(filepath_or_buffer, sep, delimiter, header, names, index_col, usecols, squeeze, prefix, mangle_dupe_cols, dtype, engine, converters, true_values, false_values, skipinitialspace, skiprows, skipfooter, nrows, na_values, keep_default_na, na_filter, verbose, skip_blank_lines, parse_dates, infer_datetime_format, keep_date_col, date_parser, dayfirst, cache_dates, iterator, chunksize, compression, thousands, decimal, lineterminator, quotechar, quoting, doublequote, escapechar, comment, encoding, encoding_errors, dialect, error_bad_lines, warn_bad_lines, on_bad_lines, delim_whitespace, low_memory, memory_map, float_precision, storage_options)\u001b[0m\n\u001b[1;32m    948\u001b[0m     \u001b[0mkwds\u001b[0m\u001b[0;34m.\u001b[0m\u001b[0mupdate\u001b[0m\u001b[0;34m(\u001b[0m\u001b[0mkwds_defaults\u001b[0m\u001b[0;34m)\u001b[0m\u001b[0;34m\u001b[0m\u001b[0;34m\u001b[0m\u001b[0m\n\u001b[1;32m    949\u001b[0m \u001b[0;34m\u001b[0m\u001b[0m\n\u001b[0;32m--> 950\u001b[0;31m     \u001b[0;32mreturn\u001b[0m \u001b[0m_read\u001b[0m\u001b[0;34m(\u001b[0m\u001b[0mfilepath_or_buffer\u001b[0m\u001b[0;34m,\u001b[0m \u001b[0mkwds\u001b[0m\u001b[0;34m)\u001b[0m\u001b[0;34m\u001b[0m\u001b[0;34m\u001b[0m\u001b[0m\n\u001b[0m\u001b[1;32m    951\u001b[0m \u001b[0;34m\u001b[0m\u001b[0m\n\u001b[1;32m    952\u001b[0m \u001b[0;34m\u001b[0m\u001b[0m\n",
            "\u001b[0;32m/usr/local/lib/python3.10/dist-packages/pandas/io/parsers/readers.py\u001b[0m in \u001b[0;36m_read\u001b[0;34m(filepath_or_buffer, kwds)\u001b[0m\n\u001b[1;32m    603\u001b[0m \u001b[0;34m\u001b[0m\u001b[0m\n\u001b[1;32m    604\u001b[0m     \u001b[0;31m# Create the parser.\u001b[0m\u001b[0;34m\u001b[0m\u001b[0;34m\u001b[0m\u001b[0m\n\u001b[0;32m--> 605\u001b[0;31m     \u001b[0mparser\u001b[0m \u001b[0;34m=\u001b[0m \u001b[0mTextFileReader\u001b[0m\u001b[0;34m(\u001b[0m\u001b[0mfilepath_or_buffer\u001b[0m\u001b[0;34m,\u001b[0m \u001b[0;34m**\u001b[0m\u001b[0mkwds\u001b[0m\u001b[0;34m)\u001b[0m\u001b[0;34m\u001b[0m\u001b[0;34m\u001b[0m\u001b[0m\n\u001b[0m\u001b[1;32m    606\u001b[0m \u001b[0;34m\u001b[0m\u001b[0m\n\u001b[1;32m    607\u001b[0m     \u001b[0;32mif\u001b[0m \u001b[0mchunksize\u001b[0m \u001b[0;32mor\u001b[0m \u001b[0miterator\u001b[0m\u001b[0;34m:\u001b[0m\u001b[0;34m\u001b[0m\u001b[0;34m\u001b[0m\u001b[0m\n",
            "\u001b[0;32m/usr/local/lib/python3.10/dist-packages/pandas/io/parsers/readers.py\u001b[0m in \u001b[0;36m__init__\u001b[0;34m(self, f, engine, **kwds)\u001b[0m\n\u001b[1;32m   1440\u001b[0m \u001b[0;34m\u001b[0m\u001b[0m\n\u001b[1;32m   1441\u001b[0m         \u001b[0mself\u001b[0m\u001b[0;34m.\u001b[0m\u001b[0mhandles\u001b[0m\u001b[0;34m:\u001b[0m \u001b[0mIOHandles\u001b[0m \u001b[0;34m|\u001b[0m \u001b[0;32mNone\u001b[0m \u001b[0;34m=\u001b[0m \u001b[0;32mNone\u001b[0m\u001b[0;34m\u001b[0m\u001b[0;34m\u001b[0m\u001b[0m\n\u001b[0;32m-> 1442\u001b[0;31m         \u001b[0mself\u001b[0m\u001b[0;34m.\u001b[0m\u001b[0m_engine\u001b[0m \u001b[0;34m=\u001b[0m \u001b[0mself\u001b[0m\u001b[0;34m.\u001b[0m\u001b[0m_make_engine\u001b[0m\u001b[0;34m(\u001b[0m\u001b[0mf\u001b[0m\u001b[0;34m,\u001b[0m \u001b[0mself\u001b[0m\u001b[0;34m.\u001b[0m\u001b[0mengine\u001b[0m\u001b[0;34m)\u001b[0m\u001b[0;34m\u001b[0m\u001b[0;34m\u001b[0m\u001b[0m\n\u001b[0m\u001b[1;32m   1443\u001b[0m \u001b[0;34m\u001b[0m\u001b[0m\n\u001b[1;32m   1444\u001b[0m     \u001b[0;32mdef\u001b[0m \u001b[0mclose\u001b[0m\u001b[0;34m(\u001b[0m\u001b[0mself\u001b[0m\u001b[0;34m)\u001b[0m \u001b[0;34m->\u001b[0m \u001b[0;32mNone\u001b[0m\u001b[0;34m:\u001b[0m\u001b[0;34m\u001b[0m\u001b[0;34m\u001b[0m\u001b[0m\n",
            "\u001b[0;32m/usr/local/lib/python3.10/dist-packages/pandas/io/parsers/readers.py\u001b[0m in \u001b[0;36m_make_engine\u001b[0;34m(self, f, engine)\u001b[0m\n\u001b[1;32m   1733\u001b[0m                 \u001b[0;32mif\u001b[0m \u001b[0;34m\"b\"\u001b[0m \u001b[0;32mnot\u001b[0m \u001b[0;32min\u001b[0m \u001b[0mmode\u001b[0m\u001b[0;34m:\u001b[0m\u001b[0;34m\u001b[0m\u001b[0;34m\u001b[0m\u001b[0m\n\u001b[1;32m   1734\u001b[0m                     \u001b[0mmode\u001b[0m \u001b[0;34m+=\u001b[0m \u001b[0;34m\"b\"\u001b[0m\u001b[0;34m\u001b[0m\u001b[0;34m\u001b[0m\u001b[0m\n\u001b[0;32m-> 1735\u001b[0;31m             self.handles = get_handle(\n\u001b[0m\u001b[1;32m   1736\u001b[0m                 \u001b[0mf\u001b[0m\u001b[0;34m,\u001b[0m\u001b[0;34m\u001b[0m\u001b[0;34m\u001b[0m\u001b[0m\n\u001b[1;32m   1737\u001b[0m                 \u001b[0mmode\u001b[0m\u001b[0;34m,\u001b[0m\u001b[0;34m\u001b[0m\u001b[0;34m\u001b[0m\u001b[0m\n",
            "\u001b[0;32m/usr/local/lib/python3.10/dist-packages/pandas/io/common.py\u001b[0m in \u001b[0;36mget_handle\u001b[0;34m(path_or_buf, mode, encoding, compression, memory_map, is_text, errors, storage_options)\u001b[0m\n\u001b[1;32m    854\u001b[0m         \u001b[0;32mif\u001b[0m \u001b[0mioargs\u001b[0m\u001b[0;34m.\u001b[0m\u001b[0mencoding\u001b[0m \u001b[0;32mand\u001b[0m \u001b[0;34m\"b\"\u001b[0m \u001b[0;32mnot\u001b[0m \u001b[0;32min\u001b[0m \u001b[0mioargs\u001b[0m\u001b[0;34m.\u001b[0m\u001b[0mmode\u001b[0m\u001b[0;34m:\u001b[0m\u001b[0;34m\u001b[0m\u001b[0;34m\u001b[0m\u001b[0m\n\u001b[1;32m    855\u001b[0m             \u001b[0;31m# Encoding\u001b[0m\u001b[0;34m\u001b[0m\u001b[0;34m\u001b[0m\u001b[0m\n\u001b[0;32m--> 856\u001b[0;31m             handle = open(\n\u001b[0m\u001b[1;32m    857\u001b[0m                 \u001b[0mhandle\u001b[0m\u001b[0;34m,\u001b[0m\u001b[0;34m\u001b[0m\u001b[0;34m\u001b[0m\u001b[0m\n\u001b[1;32m    858\u001b[0m                 \u001b[0mioargs\u001b[0m\u001b[0;34m.\u001b[0m\u001b[0mmode\u001b[0m\u001b[0;34m,\u001b[0m\u001b[0;34m\u001b[0m\u001b[0;34m\u001b[0m\u001b[0m\n",
            "\u001b[0;31mFileNotFoundError\u001b[0m: [Errno 2] No such file or directory: 'ventas_semanales.csv'"
          ]
        }
      ]
    },
    {
      "cell_type": "markdown",
      "source": [
        "###**Optimización de Precio**\n",
        " "
      ],
      "metadata": {
        "id": "DWHg_Mc1kVsT"
      }
    },
    {
      "cell_type": "code",
      "source": [
        "SKU321 = data[data['Pcode'] == 'SKU321'] \n",
        "SKU321.head(15)"
      ],
      "metadata": {
        "id": "EFUlemTGhLrR",
        "colab": {
          "base_uri": "https://localhost:8080/",
          "height": 516
        },
        "outputId": "e6e34784-8b35-4c46-973f-5804aa7e1679"
      },
      "execution_count": 33,
      "outputs": [
        {
          "output_type": "execute_result",
          "data": {
            "text/plain": [
              "       Scode   Pcode  Price  2022-01-03 00:00:00  2022-01-10 00:00:00  \\\n",
              "320   Store1  SKU321   91.0                    3                    6   \n",
              "1320  Store2  SKU321   64.0                   16                    9   \n",
              "2012  Store3  SKU321   41.0                   97                   78   \n",
              "2093  Store3  SKU321   94.0                   81                   76   \n",
              "2212  Store3  SKU321   67.0                   78                   61   \n",
              "2280  Store3  SKU321   87.0                   65                   67   \n",
              "2562  Store3  SKU321   10.0                   64                   65   \n",
              "2595  Store3  SKU321   30.0                   56                   54   \n",
              "2834  Store3  SKU321   43.0                   87                   60   \n",
              "2883  Store3  SKU321   87.0                   51                   99   \n",
              "2997  Store3  SKU321   44.0                   36                   32   \n",
              "3702  Store4  SKU321   96.0                   23                   21   \n",
              "\n",
              "      2022-01-17 00:00:00  2022-01-24 00:00:00  2022-01-31 00:00:00  \\\n",
              "320                     8                    5                    3   \n",
              "1320                   91                   93                    1   \n",
              "2012                   88                   56                   87   \n",
              "2093                   93                   53                   57   \n",
              "2212                   79                   55                   80   \n",
              "2280                   93                   53                   84   \n",
              "2562                   64                   72                   68   \n",
              "2595                   50                   54                   62   \n",
              "2834                   60                   92                   54   \n",
              "2883                   59                   66                   95   \n",
              "2997                   40                   33                   46   \n",
              "3702                   41                   43                   34   \n",
              "\n",
              "      2022-02-07 00:00:00  2022-02-14 00:00:00  ...  2023-10-23 00:00:00  \\\n",
              "320                     3                    3  ...                   31   \n",
              "1320                   80                   17  ...                   66   \n",
              "2012                   57                   66  ...                   73   \n",
              "2093                   67                   91  ...                   75   \n",
              "2212                   98                   73  ...                   65   \n",
              "2280                   79                   90  ...                   87   \n",
              "2562                   75                   76  ...                   88   \n",
              "2595                   76                   73  ...                   65   \n",
              "2834                   68                   78  ...                   65   \n",
              "2883                   66                   58  ...                  100   \n",
              "2997                   30                   45  ...                   31   \n",
              "3702                   46                   47  ...                   37   \n",
              "\n",
              "      2023-10-30 00:00:00  2023-11-06 00:00:00  2023-11-13 00:00:00  \\\n",
              "320                    25                    5                    9   \n",
              "1320                   83                   68                   12   \n",
              "2012                   73                  100                   56   \n",
              "2093                   69                   79                   62   \n",
              "2212                   79                   86                   61   \n",
              "2280                   74                   99                   60   \n",
              "2562                   96                   76                   92   \n",
              "2595                   79                   85                   80   \n",
              "2834                   64                   73                   53   \n",
              "2883                   79                   51                   64   \n",
              "2997                   27                   23                   22   \n",
              "3702                   29                   47                   44   \n",
              "\n",
              "      2023-11-20 00:00:00  2023-11-27 00:00:00  2023-12-04 00:00:00  \\\n",
              "320                    54                   73                   95   \n",
              "1320                  155                  343                  492   \n",
              "2012                  228                  402                  880   \n",
              "2093                  271                  677                 1752   \n",
              "2212                  286                  495                 1391   \n",
              "2280                  207                  459                  507   \n",
              "2562                  100                  228                  533   \n",
              "2595                  198                  520                 1495   \n",
              "2834                  253                  265                  793   \n",
              "2883                  147                  395                  683   \n",
              "2997                   86                  209                  293   \n",
              "3702                   51                  136                  344   \n",
              "\n",
              "      2023-12-11 00:00:00  2023-12-18 00:00:00  2023-12-25 00:00:00  \n",
              "320                   201                   35                    1  \n",
              "1320                 1216                   29                   24  \n",
              "2012                 1260                   51                   91  \n",
              "2093                 1801                   64                   86  \n",
              "2212                 1882                   73                   54  \n",
              "2280                  980                   65                   67  \n",
              "2562                 1480                   70                   61  \n",
              "2595                 2770                   58                   86  \n",
              "2834                 1284                   62                   59  \n",
              "2883                 1717                   63                   57  \n",
              "2997                  582                   49                   43  \n",
              "3702                 1024                   45                   34  \n",
              "\n",
              "[12 rows x 107 columns]"
            ],
            "text/html": [
              "\n",
              "  <div id=\"df-e06aaa76-83a2-46de-bae1-1ffa8f687fd2\">\n",
              "    <div class=\"colab-df-container\">\n",
              "      <div>\n",
              "<style scoped>\n",
              "    .dataframe tbody tr th:only-of-type {\n",
              "        vertical-align: middle;\n",
              "    }\n",
              "\n",
              "    .dataframe tbody tr th {\n",
              "        vertical-align: top;\n",
              "    }\n",
              "\n",
              "    .dataframe thead th {\n",
              "        text-align: right;\n",
              "    }\n",
              "</style>\n",
              "<table border=\"1\" class=\"dataframe\">\n",
              "  <thead>\n",
              "    <tr style=\"text-align: right;\">\n",
              "      <th></th>\n",
              "      <th>Scode</th>\n",
              "      <th>Pcode</th>\n",
              "      <th>Price</th>\n",
              "      <th>2022-01-03 00:00:00</th>\n",
              "      <th>2022-01-10 00:00:00</th>\n",
              "      <th>2022-01-17 00:00:00</th>\n",
              "      <th>2022-01-24 00:00:00</th>\n",
              "      <th>2022-01-31 00:00:00</th>\n",
              "      <th>2022-02-07 00:00:00</th>\n",
              "      <th>2022-02-14 00:00:00</th>\n",
              "      <th>...</th>\n",
              "      <th>2023-10-23 00:00:00</th>\n",
              "      <th>2023-10-30 00:00:00</th>\n",
              "      <th>2023-11-06 00:00:00</th>\n",
              "      <th>2023-11-13 00:00:00</th>\n",
              "      <th>2023-11-20 00:00:00</th>\n",
              "      <th>2023-11-27 00:00:00</th>\n",
              "      <th>2023-12-04 00:00:00</th>\n",
              "      <th>2023-12-11 00:00:00</th>\n",
              "      <th>2023-12-18 00:00:00</th>\n",
              "      <th>2023-12-25 00:00:00</th>\n",
              "    </tr>\n",
              "  </thead>\n",
              "  <tbody>\n",
              "    <tr>\n",
              "      <th>320</th>\n",
              "      <td>Store1</td>\n",
              "      <td>SKU321</td>\n",
              "      <td>91.0</td>\n",
              "      <td>3</td>\n",
              "      <td>6</td>\n",
              "      <td>8</td>\n",
              "      <td>5</td>\n",
              "      <td>3</td>\n",
              "      <td>3</td>\n",
              "      <td>3</td>\n",
              "      <td>...</td>\n",
              "      <td>31</td>\n",
              "      <td>25</td>\n",
              "      <td>5</td>\n",
              "      <td>9</td>\n",
              "      <td>54</td>\n",
              "      <td>73</td>\n",
              "      <td>95</td>\n",
              "      <td>201</td>\n",
              "      <td>35</td>\n",
              "      <td>1</td>\n",
              "    </tr>\n",
              "    <tr>\n",
              "      <th>1320</th>\n",
              "      <td>Store2</td>\n",
              "      <td>SKU321</td>\n",
              "      <td>64.0</td>\n",
              "      <td>16</td>\n",
              "      <td>9</td>\n",
              "      <td>91</td>\n",
              "      <td>93</td>\n",
              "      <td>1</td>\n",
              "      <td>80</td>\n",
              "      <td>17</td>\n",
              "      <td>...</td>\n",
              "      <td>66</td>\n",
              "      <td>83</td>\n",
              "      <td>68</td>\n",
              "      <td>12</td>\n",
              "      <td>155</td>\n",
              "      <td>343</td>\n",
              "      <td>492</td>\n",
              "      <td>1216</td>\n",
              "      <td>29</td>\n",
              "      <td>24</td>\n",
              "    </tr>\n",
              "    <tr>\n",
              "      <th>2012</th>\n",
              "      <td>Store3</td>\n",
              "      <td>SKU321</td>\n",
              "      <td>41.0</td>\n",
              "      <td>97</td>\n",
              "      <td>78</td>\n",
              "      <td>88</td>\n",
              "      <td>56</td>\n",
              "      <td>87</td>\n",
              "      <td>57</td>\n",
              "      <td>66</td>\n",
              "      <td>...</td>\n",
              "      <td>73</td>\n",
              "      <td>73</td>\n",
              "      <td>100</td>\n",
              "      <td>56</td>\n",
              "      <td>228</td>\n",
              "      <td>402</td>\n",
              "      <td>880</td>\n",
              "      <td>1260</td>\n",
              "      <td>51</td>\n",
              "      <td>91</td>\n",
              "    </tr>\n",
              "    <tr>\n",
              "      <th>2093</th>\n",
              "      <td>Store3</td>\n",
              "      <td>SKU321</td>\n",
              "      <td>94.0</td>\n",
              "      <td>81</td>\n",
              "      <td>76</td>\n",
              "      <td>93</td>\n",
              "      <td>53</td>\n",
              "      <td>57</td>\n",
              "      <td>67</td>\n",
              "      <td>91</td>\n",
              "      <td>...</td>\n",
              "      <td>75</td>\n",
              "      <td>69</td>\n",
              "      <td>79</td>\n",
              "      <td>62</td>\n",
              "      <td>271</td>\n",
              "      <td>677</td>\n",
              "      <td>1752</td>\n",
              "      <td>1801</td>\n",
              "      <td>64</td>\n",
              "      <td>86</td>\n",
              "    </tr>\n",
              "    <tr>\n",
              "      <th>2212</th>\n",
              "      <td>Store3</td>\n",
              "      <td>SKU321</td>\n",
              "      <td>67.0</td>\n",
              "      <td>78</td>\n",
              "      <td>61</td>\n",
              "      <td>79</td>\n",
              "      <td>55</td>\n",
              "      <td>80</td>\n",
              "      <td>98</td>\n",
              "      <td>73</td>\n",
              "      <td>...</td>\n",
              "      <td>65</td>\n",
              "      <td>79</td>\n",
              "      <td>86</td>\n",
              "      <td>61</td>\n",
              "      <td>286</td>\n",
              "      <td>495</td>\n",
              "      <td>1391</td>\n",
              "      <td>1882</td>\n",
              "      <td>73</td>\n",
              "      <td>54</td>\n",
              "    </tr>\n",
              "    <tr>\n",
              "      <th>2280</th>\n",
              "      <td>Store3</td>\n",
              "      <td>SKU321</td>\n",
              "      <td>87.0</td>\n",
              "      <td>65</td>\n",
              "      <td>67</td>\n",
              "      <td>93</td>\n",
              "      <td>53</td>\n",
              "      <td>84</td>\n",
              "      <td>79</td>\n",
              "      <td>90</td>\n",
              "      <td>...</td>\n",
              "      <td>87</td>\n",
              "      <td>74</td>\n",
              "      <td>99</td>\n",
              "      <td>60</td>\n",
              "      <td>207</td>\n",
              "      <td>459</td>\n",
              "      <td>507</td>\n",
              "      <td>980</td>\n",
              "      <td>65</td>\n",
              "      <td>67</td>\n",
              "    </tr>\n",
              "    <tr>\n",
              "      <th>2562</th>\n",
              "      <td>Store3</td>\n",
              "      <td>SKU321</td>\n",
              "      <td>10.0</td>\n",
              "      <td>64</td>\n",
              "      <td>65</td>\n",
              "      <td>64</td>\n",
              "      <td>72</td>\n",
              "      <td>68</td>\n",
              "      <td>75</td>\n",
              "      <td>76</td>\n",
              "      <td>...</td>\n",
              "      <td>88</td>\n",
              "      <td>96</td>\n",
              "      <td>76</td>\n",
              "      <td>92</td>\n",
              "      <td>100</td>\n",
              "      <td>228</td>\n",
              "      <td>533</td>\n",
              "      <td>1480</td>\n",
              "      <td>70</td>\n",
              "      <td>61</td>\n",
              "    </tr>\n",
              "    <tr>\n",
              "      <th>2595</th>\n",
              "      <td>Store3</td>\n",
              "      <td>SKU321</td>\n",
              "      <td>30.0</td>\n",
              "      <td>56</td>\n",
              "      <td>54</td>\n",
              "      <td>50</td>\n",
              "      <td>54</td>\n",
              "      <td>62</td>\n",
              "      <td>76</td>\n",
              "      <td>73</td>\n",
              "      <td>...</td>\n",
              "      <td>65</td>\n",
              "      <td>79</td>\n",
              "      <td>85</td>\n",
              "      <td>80</td>\n",
              "      <td>198</td>\n",
              "      <td>520</td>\n",
              "      <td>1495</td>\n",
              "      <td>2770</td>\n",
              "      <td>58</td>\n",
              "      <td>86</td>\n",
              "    </tr>\n",
              "    <tr>\n",
              "      <th>2834</th>\n",
              "      <td>Store3</td>\n",
              "      <td>SKU321</td>\n",
              "      <td>43.0</td>\n",
              "      <td>87</td>\n",
              "      <td>60</td>\n",
              "      <td>60</td>\n",
              "      <td>92</td>\n",
              "      <td>54</td>\n",
              "      <td>68</td>\n",
              "      <td>78</td>\n",
              "      <td>...</td>\n",
              "      <td>65</td>\n",
              "      <td>64</td>\n",
              "      <td>73</td>\n",
              "      <td>53</td>\n",
              "      <td>253</td>\n",
              "      <td>265</td>\n",
              "      <td>793</td>\n",
              "      <td>1284</td>\n",
              "      <td>62</td>\n",
              "      <td>59</td>\n",
              "    </tr>\n",
              "    <tr>\n",
              "      <th>2883</th>\n",
              "      <td>Store3</td>\n",
              "      <td>SKU321</td>\n",
              "      <td>87.0</td>\n",
              "      <td>51</td>\n",
              "      <td>99</td>\n",
              "      <td>59</td>\n",
              "      <td>66</td>\n",
              "      <td>95</td>\n",
              "      <td>66</td>\n",
              "      <td>58</td>\n",
              "      <td>...</td>\n",
              "      <td>100</td>\n",
              "      <td>79</td>\n",
              "      <td>51</td>\n",
              "      <td>64</td>\n",
              "      <td>147</td>\n",
              "      <td>395</td>\n",
              "      <td>683</td>\n",
              "      <td>1717</td>\n",
              "      <td>63</td>\n",
              "      <td>57</td>\n",
              "    </tr>\n",
              "    <tr>\n",
              "      <th>2997</th>\n",
              "      <td>Store3</td>\n",
              "      <td>SKU321</td>\n",
              "      <td>44.0</td>\n",
              "      <td>36</td>\n",
              "      <td>32</td>\n",
              "      <td>40</td>\n",
              "      <td>33</td>\n",
              "      <td>46</td>\n",
              "      <td>30</td>\n",
              "      <td>45</td>\n",
              "      <td>...</td>\n",
              "      <td>31</td>\n",
              "      <td>27</td>\n",
              "      <td>23</td>\n",
              "      <td>22</td>\n",
              "      <td>86</td>\n",
              "      <td>209</td>\n",
              "      <td>293</td>\n",
              "      <td>582</td>\n",
              "      <td>49</td>\n",
              "      <td>43</td>\n",
              "    </tr>\n",
              "    <tr>\n",
              "      <th>3702</th>\n",
              "      <td>Store4</td>\n",
              "      <td>SKU321</td>\n",
              "      <td>96.0</td>\n",
              "      <td>23</td>\n",
              "      <td>21</td>\n",
              "      <td>41</td>\n",
              "      <td>43</td>\n",
              "      <td>34</td>\n",
              "      <td>46</td>\n",
              "      <td>47</td>\n",
              "      <td>...</td>\n",
              "      <td>37</td>\n",
              "      <td>29</td>\n",
              "      <td>47</td>\n",
              "      <td>44</td>\n",
              "      <td>51</td>\n",
              "      <td>136</td>\n",
              "      <td>344</td>\n",
              "      <td>1024</td>\n",
              "      <td>45</td>\n",
              "      <td>34</td>\n",
              "    </tr>\n",
              "  </tbody>\n",
              "</table>\n",
              "<p>12 rows × 107 columns</p>\n",
              "</div>\n",
              "      <button class=\"colab-df-convert\" onclick=\"convertToInteractive('df-e06aaa76-83a2-46de-bae1-1ffa8f687fd2')\"\n",
              "              title=\"Convert this dataframe to an interactive table.\"\n",
              "              style=\"display:none;\">\n",
              "        \n",
              "  <svg xmlns=\"http://www.w3.org/2000/svg\" height=\"24px\"viewBox=\"0 0 24 24\"\n",
              "       width=\"24px\">\n",
              "    <path d=\"M0 0h24v24H0V0z\" fill=\"none\"/>\n",
              "    <path d=\"M18.56 5.44l.94 2.06.94-2.06 2.06-.94-2.06-.94-.94-2.06-.94 2.06-2.06.94zm-11 1L8.5 8.5l.94-2.06 2.06-.94-2.06-.94L8.5 2.5l-.94 2.06-2.06.94zm10 10l.94 2.06.94-2.06 2.06-.94-2.06-.94-.94-2.06-.94 2.06-2.06.94z\"/><path d=\"M17.41 7.96l-1.37-1.37c-.4-.4-.92-.59-1.43-.59-.52 0-1.04.2-1.43.59L10.3 9.45l-7.72 7.72c-.78.78-.78 2.05 0 2.83L4 21.41c.39.39.9.59 1.41.59.51 0 1.02-.2 1.41-.59l7.78-7.78 2.81-2.81c.8-.78.8-2.07 0-2.86zM5.41 20L4 18.59l7.72-7.72 1.47 1.35L5.41 20z\"/>\n",
              "  </svg>\n",
              "      </button>\n",
              "      \n",
              "  <style>\n",
              "    .colab-df-container {\n",
              "      display:flex;\n",
              "      flex-wrap:wrap;\n",
              "      gap: 12px;\n",
              "    }\n",
              "\n",
              "    .colab-df-convert {\n",
              "      background-color: #E8F0FE;\n",
              "      border: none;\n",
              "      border-radius: 50%;\n",
              "      cursor: pointer;\n",
              "      display: none;\n",
              "      fill: #1967D2;\n",
              "      height: 32px;\n",
              "      padding: 0 0 0 0;\n",
              "      width: 32px;\n",
              "    }\n",
              "\n",
              "    .colab-df-convert:hover {\n",
              "      background-color: #E2EBFA;\n",
              "      box-shadow: 0px 1px 2px rgba(60, 64, 67, 0.3), 0px 1px 3px 1px rgba(60, 64, 67, 0.15);\n",
              "      fill: #174EA6;\n",
              "    }\n",
              "\n",
              "    [theme=dark] .colab-df-convert {\n",
              "      background-color: #3B4455;\n",
              "      fill: #D2E3FC;\n",
              "    }\n",
              "\n",
              "    [theme=dark] .colab-df-convert:hover {\n",
              "      background-color: #434B5C;\n",
              "      box-shadow: 0px 1px 3px 1px rgba(0, 0, 0, 0.15);\n",
              "      filter: drop-shadow(0px 1px 2px rgba(0, 0, 0, 0.3));\n",
              "      fill: #FFFFFF;\n",
              "    }\n",
              "  </style>\n",
              "\n",
              "      <script>\n",
              "        const buttonEl =\n",
              "          document.querySelector('#df-e06aaa76-83a2-46de-bae1-1ffa8f687fd2 button.colab-df-convert');\n",
              "        buttonEl.style.display =\n",
              "          google.colab.kernel.accessAllowed ? 'block' : 'none';\n",
              "\n",
              "        async function convertToInteractive(key) {\n",
              "          const element = document.querySelector('#df-e06aaa76-83a2-46de-bae1-1ffa8f687fd2');\n",
              "          const dataTable =\n",
              "            await google.colab.kernel.invokeFunction('convertToInteractive',\n",
              "                                                     [key], {});\n",
              "          if (!dataTable) return;\n",
              "\n",
              "          const docLinkHtml = 'Like what you see? Visit the ' +\n",
              "            '<a target=\"_blank\" href=https://colab.research.google.com/notebooks/data_table.ipynb>data table notebook</a>'\n",
              "            + ' to learn more about interactive tables.';\n",
              "          element.innerHTML = '';\n",
              "          dataTable['output_type'] = 'display_data';\n",
              "          await google.colab.output.renderOutput(dataTable, element);\n",
              "          const docLink = document.createElement('div');\n",
              "          docLink.innerHTML = docLinkHtml;\n",
              "          element.appendChild(docLink);\n",
              "        }\n",
              "      </script>\n",
              "    </div>\n",
              "  </div>\n",
              "  "
            ]
          },
          "metadata": {},
          "execution_count": 33
        }
      ]
    },
    {
      "cell_type": "code",
      "source": [
        "SKU321_flt = SKU321.loc[:, ~SKU321.columns.isin(['Scode', 'Pcode'])]\n",
        "\n",
        "'''\n",
        "# Calculating mean sales weekly by each price\n",
        "SKU321_melted = SKU321_flt.melt(id_vars=['Price'], var_name='Weekly', value_name='Sales')\n",
        "\n",
        "SKU321_mean = SKU321_melted.groupby('Price')['Sales'].mean().reset_index()\n",
        "print(SKU321_mean)\n",
        "\n",
        "# Calculating mean sales weekly by each price but using percentiles to avoid outliers\n",
        "p10, p90 = SKU321_melted['Sales'].quantile([0.10, 0.90])\n",
        "SKU321_melted['Sales_Acot'] = SKU321_melted['Sales'].clip(p10,p90)\n",
        "SKU321_mean_clip = SKU321_melted.groupby('Price')['Sales_Acot'].mean().reset_index()\n",
        "print(SKU321_mean_clip)\n",
        "'''\n",
        "\n",
        "'''\n",
        "store1_melted = pd.melt(store1_flt, id_vars=[\"Pcode\"], var_name=\"dates\", value_name=\"venta\")\n",
        "# df_melted.head(15)\n",
        "store1_pivoted = store1_melted.pivot(index=\"dates\", columns=\"Pcode\", values=\"venta\")\n",
        "store1_pivoted.head()\n",
        "'''\n",
        "\n",
        "def media_sin_outliers(row):\n",
        "    mean = np.mean(row[1:])\n",
        "    std = np.std(row[1:])\n",
        "    \n",
        "    row = row[(row >= mean - 0.5*std) & (row <= mean + 0.5*std)]\n",
        "    \n",
        "    return np.mean(row)\n",
        "\n",
        "\n",
        "SKU321_flt['mean_without_outliers'] = SKU321_flt.apply(media_sin_outliers, axis=1)\n",
        "SKU321_adj = SKU321_flt[['Price', 'mean_without_outliers']]\n",
        "SKU321_adj = SKU321_adj.sort_values('Price', ascending=True)\n",
        "SKU321_adj.head(15)"
      ],
      "metadata": {
        "id": "IHDMLKE3ETeC",
        "colab": {
          "base_uri": "https://localhost:8080/",
          "height": 529
        },
        "outputId": "fc569141-f320-4608-8b18-b7f7b7a10b8a"
      },
      "execution_count": 35,
      "outputs": [
        {
          "output_type": "stream",
          "name": "stderr",
          "text": [
            "<ipython-input-35-3c42c2a6db7a>:33: SettingWithCopyWarning: \n",
            "A value is trying to be set on a copy of a slice from a DataFrame.\n",
            "Try using .loc[row_indexer,col_indexer] = value instead\n",
            "\n",
            "See the caveats in the documentation: https://pandas.pydata.org/pandas-docs/stable/user_guide/indexing.html#returning-a-view-versus-a-copy\n",
            "  SKU321_flt['mean_without_outliers'] = SKU321_flt.apply(media_sin_outliers, axis=1)\n"
          ]
        },
        {
          "output_type": "execute_result",
          "data": {
            "text/plain": [
              "      Price  mean_without_outliers\n",
              "2562   10.0              74.350515\n",
              "2595   30.0              78.262626\n",
              "2012   41.0              77.520408\n",
              "2834   43.0              72.298969\n",
              "2997   44.0              38.020202\n",
              "1320   64.0              52.864583\n",
              "2212   67.0              79.969697\n",
              "2280   87.0              75.319588\n",
              "2883   87.0              75.333333\n",
              "320    91.0              14.280000\n",
              "2093   94.0              76.989899\n",
              "3702   96.0              36.292929"
            ],
            "text/html": [
              "\n",
              "  <div id=\"df-0503a20b-cb2f-4d72-90a2-514316c1ffd7\">\n",
              "    <div class=\"colab-df-container\">\n",
              "      <div>\n",
              "<style scoped>\n",
              "    .dataframe tbody tr th:only-of-type {\n",
              "        vertical-align: middle;\n",
              "    }\n",
              "\n",
              "    .dataframe tbody tr th {\n",
              "        vertical-align: top;\n",
              "    }\n",
              "\n",
              "    .dataframe thead th {\n",
              "        text-align: right;\n",
              "    }\n",
              "</style>\n",
              "<table border=\"1\" class=\"dataframe\">\n",
              "  <thead>\n",
              "    <tr style=\"text-align: right;\">\n",
              "      <th></th>\n",
              "      <th>Price</th>\n",
              "      <th>mean_without_outliers</th>\n",
              "    </tr>\n",
              "  </thead>\n",
              "  <tbody>\n",
              "    <tr>\n",
              "      <th>2562</th>\n",
              "      <td>10.0</td>\n",
              "      <td>74.350515</td>\n",
              "    </tr>\n",
              "    <tr>\n",
              "      <th>2595</th>\n",
              "      <td>30.0</td>\n",
              "      <td>78.262626</td>\n",
              "    </tr>\n",
              "    <tr>\n",
              "      <th>2012</th>\n",
              "      <td>41.0</td>\n",
              "      <td>77.520408</td>\n",
              "    </tr>\n",
              "    <tr>\n",
              "      <th>2834</th>\n",
              "      <td>43.0</td>\n",
              "      <td>72.298969</td>\n",
              "    </tr>\n",
              "    <tr>\n",
              "      <th>2997</th>\n",
              "      <td>44.0</td>\n",
              "      <td>38.020202</td>\n",
              "    </tr>\n",
              "    <tr>\n",
              "      <th>1320</th>\n",
              "      <td>64.0</td>\n",
              "      <td>52.864583</td>\n",
              "    </tr>\n",
              "    <tr>\n",
              "      <th>2212</th>\n",
              "      <td>67.0</td>\n",
              "      <td>79.969697</td>\n",
              "    </tr>\n",
              "    <tr>\n",
              "      <th>2280</th>\n",
              "      <td>87.0</td>\n",
              "      <td>75.319588</td>\n",
              "    </tr>\n",
              "    <tr>\n",
              "      <th>2883</th>\n",
              "      <td>87.0</td>\n",
              "      <td>75.333333</td>\n",
              "    </tr>\n",
              "    <tr>\n",
              "      <th>320</th>\n",
              "      <td>91.0</td>\n",
              "      <td>14.280000</td>\n",
              "    </tr>\n",
              "    <tr>\n",
              "      <th>2093</th>\n",
              "      <td>94.0</td>\n",
              "      <td>76.989899</td>\n",
              "    </tr>\n",
              "    <tr>\n",
              "      <th>3702</th>\n",
              "      <td>96.0</td>\n",
              "      <td>36.292929</td>\n",
              "    </tr>\n",
              "  </tbody>\n",
              "</table>\n",
              "</div>\n",
              "      <button class=\"colab-df-convert\" onclick=\"convertToInteractive('df-0503a20b-cb2f-4d72-90a2-514316c1ffd7')\"\n",
              "              title=\"Convert this dataframe to an interactive table.\"\n",
              "              style=\"display:none;\">\n",
              "        \n",
              "  <svg xmlns=\"http://www.w3.org/2000/svg\" height=\"24px\"viewBox=\"0 0 24 24\"\n",
              "       width=\"24px\">\n",
              "    <path d=\"M0 0h24v24H0V0z\" fill=\"none\"/>\n",
              "    <path d=\"M18.56 5.44l.94 2.06.94-2.06 2.06-.94-2.06-.94-.94-2.06-.94 2.06-2.06.94zm-11 1L8.5 8.5l.94-2.06 2.06-.94-2.06-.94L8.5 2.5l-.94 2.06-2.06.94zm10 10l.94 2.06.94-2.06 2.06-.94-2.06-.94-.94-2.06-.94 2.06-2.06.94z\"/><path d=\"M17.41 7.96l-1.37-1.37c-.4-.4-.92-.59-1.43-.59-.52 0-1.04.2-1.43.59L10.3 9.45l-7.72 7.72c-.78.78-.78 2.05 0 2.83L4 21.41c.39.39.9.59 1.41.59.51 0 1.02-.2 1.41-.59l7.78-7.78 2.81-2.81c.8-.78.8-2.07 0-2.86zM5.41 20L4 18.59l7.72-7.72 1.47 1.35L5.41 20z\"/>\n",
              "  </svg>\n",
              "      </button>\n",
              "      \n",
              "  <style>\n",
              "    .colab-df-container {\n",
              "      display:flex;\n",
              "      flex-wrap:wrap;\n",
              "      gap: 12px;\n",
              "    }\n",
              "\n",
              "    .colab-df-convert {\n",
              "      background-color: #E8F0FE;\n",
              "      border: none;\n",
              "      border-radius: 50%;\n",
              "      cursor: pointer;\n",
              "      display: none;\n",
              "      fill: #1967D2;\n",
              "      height: 32px;\n",
              "      padding: 0 0 0 0;\n",
              "      width: 32px;\n",
              "    }\n",
              "\n",
              "    .colab-df-convert:hover {\n",
              "      background-color: #E2EBFA;\n",
              "      box-shadow: 0px 1px 2px rgba(60, 64, 67, 0.3), 0px 1px 3px 1px rgba(60, 64, 67, 0.15);\n",
              "      fill: #174EA6;\n",
              "    }\n",
              "\n",
              "    [theme=dark] .colab-df-convert {\n",
              "      background-color: #3B4455;\n",
              "      fill: #D2E3FC;\n",
              "    }\n",
              "\n",
              "    [theme=dark] .colab-df-convert:hover {\n",
              "      background-color: #434B5C;\n",
              "      box-shadow: 0px 1px 3px 1px rgba(0, 0, 0, 0.15);\n",
              "      filter: drop-shadow(0px 1px 2px rgba(0, 0, 0, 0.3));\n",
              "      fill: #FFFFFF;\n",
              "    }\n",
              "  </style>\n",
              "\n",
              "      <script>\n",
              "        const buttonEl =\n",
              "          document.querySelector('#df-0503a20b-cb2f-4d72-90a2-514316c1ffd7 button.colab-df-convert');\n",
              "        buttonEl.style.display =\n",
              "          google.colab.kernel.accessAllowed ? 'block' : 'none';\n",
              "\n",
              "        async function convertToInteractive(key) {\n",
              "          const element = document.querySelector('#df-0503a20b-cb2f-4d72-90a2-514316c1ffd7');\n",
              "          const dataTable =\n",
              "            await google.colab.kernel.invokeFunction('convertToInteractive',\n",
              "                                                     [key], {});\n",
              "          if (!dataTable) return;\n",
              "\n",
              "          const docLinkHtml = 'Like what you see? Visit the ' +\n",
              "            '<a target=\"_blank\" href=https://colab.research.google.com/notebooks/data_table.ipynb>data table notebook</a>'\n",
              "            + ' to learn more about interactive tables.';\n",
              "          element.innerHTML = '';\n",
              "          dataTable['output_type'] = 'display_data';\n",
              "          await google.colab.output.renderOutput(dataTable, element);\n",
              "          const docLink = document.createElement('div');\n",
              "          docLink.innerHTML = docLinkHtml;\n",
              "          element.appendChild(docLink);\n",
              "        }\n",
              "      </script>\n",
              "    </div>\n",
              "  </div>\n",
              "  "
            ]
          },
          "metadata": {},
          "execution_count": 35
        }
      ]
    },
    {
      "cell_type": "code",
      "source": [
        "sns.scatterplot(data=SKU321_adj, x='mean_without_outliers', y='Price')\n",
        "sns.regplot(data=SKU321_adj, x='mean_without_outliers', y='Price')\n",
        "plt.show()"
      ],
      "metadata": {
        "id": "LI4O2wscZIsU",
        "colab": {
          "base_uri": "https://localhost:8080/",
          "height": 450
        },
        "outputId": "da6b5377-951d-4bba-d60d-b000260b4c86"
      },
      "execution_count": 36,
      "outputs": [
        {
          "output_type": "display_data",
          "data": {
            "text/plain": [
              "<Figure size 640x480 with 1 Axes>"
            ],
            "image/png": "[encoded data removed]"
          },
          "metadata": {}
        }
      ]
    },
    {
      "cell_type": "code",
      "source": [
        "from scipy.stats import linregress\n",
        "\n",
        "slope, intercept, r_value, p_value, std_err = linregress(SKU321_adj['mean_without_outliers'], SKU321_adj['Price'])\n",
        "print(f'Equation: y = {slope:.2f}x + {intercept:.2f}')"
      ],
      "metadata": {
        "id": "DGE5L2EgiGkO",
        "colab": {
          "base_uri": "https://localhost:8080/"
        },
        "outputId": "77ee60de-03ce-4332-9d89-91d7f1654d40"
      },
      "execution_count": 37,
      "outputs": [
        {
          "output_type": "stream",
          "name": "stdout",
          "text": [
            "Equation: y = -0.44x + 90.21\n"
          ]
        }
      ]
    },
    {
      "cell_type": "markdown",
      "source": [
        "#### ***La curva de la demanda es la siguiente Q = P/(-0.44) + 205.02***\n",
        "\n",
        "* Definimos las siguientes variables: I (Ingreso), P (Precio) & Q (Demanda)\n",
        "\n",
        "* Se busca maximizar los ingresos por lo que tenemos I = P*Q donde P = -0.44Q + 90.21. \n",
        "Sustituyendo tenemos I = (-0.44Q + 90.21)Q , la cual se busca encontrar el valor maximo global esto derivando la funcion I(Q) para obtener D(I(Q)) = -0.88Q + 90.21 e igualamos a 0 para obtener Q que maximiza como resultado Q = 102.3 maximiza las ganancias. La cual sustituimos en P(Q) para obtener nuestro precio optimo P = 45.19  "
      ],
      "metadata": {
        "id": "4HJ-5p2pyPNS"
      }
    },
    {
      "cell_type": "markdown",
      "source": [
        "#### **Pronostico para 3 meses posteriores**\n",
        "\n",
        "* El precio optimo es de 45.19 y la cantidad demandada para ese precio es de Q = 102,3 con ventas para los próximos 3 meses de 55,475.244\n",
        "\n",
        "* Si el precio se reduce un 10% a 40.67, la cantidad demandada aumentaria 10% a 112,53 es decir ventas de 4,576.5 semanalmente y para los próximos 3 meses de 54,919.1 (Ya que la elasticidad para estos intervalos es de 1)\n",
        "\n",
        "* Si el precio se incrementa 10% a 49.70, la cantidad demandada disminuye 11% a 92,07 es decir ventas de 4,575.8 semanalmente y para los próximos 3 meses de 54,910.5 (Ya que la elasticidad para estos intervalos es de 1.1)"
      ],
      "metadata": {
        "id": "FrNT0y8G7Yfj"
      }
    },
    {
      "cell_type": "markdown",
      "source": [
        "#### ***Conclusiones de este ejercico de optimizacion de precios*** \n",
        "\n",
        "* En este caso por simplicidad tomamos la media de todo el historico de ventas para los diferentes precios (Cuidando de re-escalar la data para evitar los sesgos por los valores atipicos) pero un factor importante que no sé tomo en cuenta fueron las tendecias y estacionalidades del producto porque casi seguramenta la elasticidad para meses como Noviembre o Diciembre no es la misma que para el resto del año donde en el primero las cantidades demandadas no tienen tanto efecto a variaciones de precio (inelastica) que es meses donde la demanda del mercado por el producto es flat. "
      ],
      "metadata": {
        "id": "VHfnPhMZojap"
      }
    },
    {
      "cell_type": "markdown",
      "source": [
        "###**Cuantifica la oportunidad economica**\n",
        "\n",
        "1.- Cuanto dinero se esté mermando (perdiendo) al no contar con una herramienta de optimización de precios?\n",
        "\n",
        "* No conocer la curva de la demanda y elasticidad implica que no estemos maximizando nuestras ventas lo que conlleva a una perdidad en el negocio. Hagamos esto con un ejemplo para ser concientes del impacto entonces Si def. E como la elasticidad entonces para E > 1 tendríamos una curva de la demanda elastica, ahora en un ejemplo de E = 1.7 nos dice que si aumentaramos el precio 10% disminurian nuestra cantidad demandada hasta un 17% esto es un impacto fuerte al negocio.\n",
        "\n",
        "2.- Que tan comodo te sientes de cerrar la brecha entre la oportunidad económica y usar tu solución de optimizacion de precios?\n",
        "\n",
        "* Sin duda es un reto porque involucran muchas tareas por hacer desde establecer pipelines que alimenten de info relevante en tiempo real, metodos para el procesamiento de la misma y la creación de un modelo que se ajuste a los objetivos entre otros pero gran parte de ese proceso me siento comodo para realizar lo. \n",
        "\n",
        "3.- Cuales son algunas de las consideraciones de implementacion que tomarías en cuenta previo a lanzar la solución en la nube?\n",
        "\n",
        "* De llevar procedimientos adecuados para prevalecer la seguridad y privacidad de la información. Y en temas de infraestructura contar con las herraminetas adecuadas para el almacenamiento, procesamiento, ejecución del modelo y por supuesto escalabilidad ya que cada mes se integran mas productos al portafolio para los cuales requieren llevar un procedimiento para siempre intentar tener los precios optimos. \n",
        "\n",
        "* Optimización de procesos para el procesamiento de informacion.\n",
        "\n",
        "4.- Una vez implementada la solución. Que proceso establecerias para medir el desempeño y mejorar la preción de tu solución a través del timepo?\n",
        "\n",
        "* Monitoreo con el objetivo de detectar problemas de calibración, de que la data de retroalimentación al modelo sea la adecuada para evitar sesgos y factores externos que provoquen alta/baja demanda.  \n",
        "\n",
        "* Mantener restricciones o filtros de seguridad para manter los precios siempre en un rango de precios que siempre haga sentido."
      ],
      "metadata": {
        "id": "xZsr3vnTrF2f"
      }
    }
  ]
}